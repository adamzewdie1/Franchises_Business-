{
 "cells": [
  {
   "cell_type": "code",
   "execution_count": 3,
   "id": "b03fc79c-9122-4427-88dd-3f498f6f6fcf",
   "metadata": {},
   "outputs": [
    {
     "name": "stdout",
     "output_type": "stream",
     "text": [
      "Requirement already satisfied: pandas in c:\\users\\silve\\documents\\data_science\\lib\\site-packages (2.2.2)\n",
      "Requirement already satisfied: numpy>=1.26.0 in c:\\users\\silve\\documents\\data_science\\lib\\site-packages (from pandas) (1.26.4)\n",
      "Requirement already satisfied: python-dateutil>=2.8.2 in c:\\users\\silve\\documents\\data_science\\lib\\site-packages (from pandas) (2.9.0.post0)\n",
      "Requirement already satisfied: pytz>=2020.1 in c:\\users\\silve\\documents\\data_science\\lib\\site-packages (from pandas) (2024.1)\n",
      "Requirement already satisfied: tzdata>=2022.7 in c:\\users\\silve\\documents\\data_science\\lib\\site-packages (from pandas) (2023.3)\n",
      "Requirement already satisfied: six>=1.5 in c:\\users\\silve\\documents\\data_science\\lib\\site-packages (from python-dateutil>=2.8.2->pandas) (1.16.0)\n",
      "Note: you may need to restart the kernel to use updated packages.\n",
      "Requirement already satisfied: numpy in c:\\users\\silve\\documents\\data_science\\lib\\site-packages (1.26.4)\n",
      "Note: you may need to restart the kernel to use updated packages.\n"
     ]
    }
   ],
   "source": [
    "%pip install pandas\n",
    "%pip install numpy"
   ]
  },
  {
   "cell_type": "code",
   "execution_count": null,
   "id": "d9bb66ad-76b8-4b22-b6ed-910f347e0a2f",
   "metadata": {},
   "outputs": [],
   "source": [
    "%pip install faker"
   ]
  },
  {
   "cell_type": "code",
   "execution_count": 32,
   "id": "46883510-70fd-4ec9-bfe9-2b8f06138fe5",
   "metadata": {},
   "outputs": [
    {
     "name": "stdout",
     "output_type": "stream",
     "text": [
      "Requirement already satisfied: ipython-sql in c:\\users\\silve\\documents\\data_science\\lib\\site-packages (0.5.0)Note: you may need to restart the kernel to use updated packages.\n",
      "The sql extension is already loaded. To reload it, use:\n",
      "  %reload_ext sql\n",
      "\n",
      "Requirement already satisfied: prettytable in c:\\users\\silve\\documents\\data_science\\lib\\site-packages (from ipython-sql) (3.16.0)\n",
      "Requirement already satisfied: ipython in c:\\users\\silve\\documents\\data_science\\lib\\site-packages (from ipython-sql) (8.27.0)\n",
      "Requirement already satisfied: sqlalchemy>=2.0 in c:\\users\\silve\\documents\\data_science\\lib\\site-packages (from ipython-sql) (2.0.34)\n",
      "Requirement already satisfied: sqlparse in c:\\users\\silve\\documents\\data_science\\lib\\site-packages (from ipython-sql) (0.5.3)\n",
      "Requirement already satisfied: six in c:\\users\\silve\\documents\\data_science\\lib\\site-packages (from ipython-sql) (1.16.0)\n",
      "Requirement already satisfied: ipython-genutils in c:\\users\\silve\\documents\\data_science\\lib\\site-packages (from ipython-sql) (0.2.0)\n",
      "Requirement already satisfied: typing-extensions>=4.6.0 in c:\\users\\silve\\documents\\data_science\\lib\\site-packages (from sqlalchemy>=2.0->ipython-sql) (4.11.0)\n",
      "Requirement already satisfied: greenlet!=0.4.17 in c:\\users\\silve\\documents\\data_science\\lib\\site-packages (from sqlalchemy>=2.0->ipython-sql) (3.0.1)\n",
      "Requirement already satisfied: decorator in c:\\users\\silve\\documents\\data_science\\lib\\site-packages (from ipython->ipython-sql) (5.1.1)\n",
      "Requirement already satisfied: jedi>=0.16 in c:\\users\\silve\\documents\\data_science\\lib\\site-packages (from ipython->ipython-sql) (0.19.1)\n",
      "Requirement already satisfied: matplotlib-inline in c:\\users\\silve\\documents\\data_science\\lib\\site-packages (from ipython->ipython-sql) (0.1.6)\n",
      "Requirement already satisfied: prompt-toolkit<3.1.0,>=3.0.41 in c:\\users\\silve\\documents\\data_science\\lib\\site-packages (from ipython->ipython-sql) (3.0.43)\n",
      "Requirement already satisfied: pygments>=2.4.0 in c:\\users\\silve\\documents\\data_science\\lib\\site-packages (from ipython->ipython-sql) (2.15.1)\n",
      "Requirement already satisfied: stack-data in c:\\users\\silve\\documents\\data_science\\lib\\site-packages (from ipython->ipython-sql) (0.2.0)\n",
      "Requirement already satisfied: traitlets>=5.13.0 in c:\\users\\silve\\documents\\data_science\\lib\\site-packages (from ipython->ipython-sql) (5.14.3)\n",
      "Requirement already satisfied: colorama in c:\\users\\silve\\documents\\data_science\\lib\\site-packages (from ipython->ipython-sql) (0.4.6)\n",
      "Requirement already satisfied: wcwidth in c:\\users\\silve\\documents\\data_science\\lib\\site-packages (from prettytable->ipython-sql) (0.2.5)\n",
      "Requirement already satisfied: parso<0.9.0,>=0.8.3 in c:\\users\\silve\\documents\\data_science\\lib\\site-packages (from jedi>=0.16->ipython->ipython-sql) (0.8.3)\n",
      "Requirement already satisfied: executing in c:\\users\\silve\\documents\\data_science\\lib\\site-packages (from stack-data->ipython->ipython-sql) (0.8.3)\n",
      "Requirement already satisfied: asttokens in c:\\users\\silve\\documents\\data_science\\lib\\site-packages (from stack-data->ipython->ipython-sql) (2.0.5)\n",
      "Requirement already satisfied: pure-eval in c:\\users\\silve\\documents\\data_science\\lib\\site-packages (from stack-data->ipython->ipython-sql) (0.2.2)\n"
     ]
    }
   ],
   "source": [
    "%pip install ipython-sql\n",
    "%load_ext sql"
   ]
  },
  {
   "cell_type": "code",
   "execution_count": 87,
   "id": "3258e40d-db5f-4579-ac9c-3217af3efca6",
   "metadata": {},
   "outputs": [
    {
     "name": "stdout",
     "output_type": "stream",
     "text": [
      "Requirement already satisfied: matplotlib in c:\\users\\silve\\documents\\data_science\\lib\\site-packages (3.9.2)\n",
      "Requirement already satisfied: contourpy>=1.0.1 in c:\\users\\silve\\documents\\data_science\\lib\\site-packages (from matplotlib) (1.2.0)\n",
      "Requirement already satisfied: cycler>=0.10 in c:\\users\\silve\\documents\\data_science\\lib\\site-packages (from matplotlib) (0.11.0)\n",
      "Requirement already satisfied: fonttools>=4.22.0 in c:\\users\\silve\\documents\\data_science\\lib\\site-packages (from matplotlib) (4.51.0)\n",
      "Requirement already satisfied: kiwisolver>=1.3.1 in c:\\users\\silve\\documents\\data_science\\lib\\site-packages (from matplotlib) (1.4.4)\n",
      "Requirement already satisfied: numpy>=1.23 in c:\\users\\silve\\documents\\data_science\\lib\\site-packages (from matplotlib) (1.26.4)\n",
      "Requirement already satisfied: packaging>=20.0 in c:\\users\\silve\\documents\\data_science\\lib\\site-packages (from matplotlib) (24.1)\n",
      "Requirement already satisfied: pillow>=8 in c:\\users\\silve\\documents\\data_science\\lib\\site-packages (from matplotlib) (10.4.0)\n",
      "Requirement already satisfied: pyparsing>=2.3.1 in c:\\users\\silve\\documents\\data_science\\lib\\site-packages (from matplotlib) (3.1.2)\n",
      "Requirement already satisfied: python-dateutil>=2.7 in c:\\users\\silve\\documents\\data_science\\lib\\site-packages (from matplotlib) (2.9.0.post0)\n",
      "Requirement already satisfied: six>=1.5 in c:\\users\\silve\\documents\\data_science\\lib\\site-packages (from python-dateutil>=2.7->matplotlib) (1.16.0)\n",
      "Note: you may need to restart the kernel to use updated packages.\n"
     ]
    }
   ],
   "source": [
    "%pip install matplotlib"
   ]
  },
  {
   "cell_type": "code",
   "execution_count": 99,
   "id": "cb479799-1543-463a-9597-caf26af30b53",
   "metadata": {},
   "outputs": [
    {
     "name": "stdout",
     "output_type": "stream",
     "text": [
      "Requirement already satisfied: dash==2.14.2 in c:\\users\\silve\\documents\\data_science\\lib\\site-packages (2.14.2)Note: you may need to restart the kernel to use updated packages.\n",
      "\n",
      "Requirement already satisfied: jupyter-dash==0.4.2 in c:\\users\\silve\\documents\\data_science\\lib\\site-packages (0.4.2)\n",
      "Requirement already satisfied: Flask<3.1,>=1.0.4 in c:\\users\\silve\\documents\\data_science\\lib\\site-packages (from dash==2.14.2) (3.0.3)\n",
      "Requirement already satisfied: Werkzeug<3.1 in c:\\users\\silve\\documents\\data_science\\lib\\site-packages (from dash==2.14.2) (3.0.3)\n",
      "Requirement already satisfied: plotly>=5.0.0 in c:\\users\\silve\\documents\\data_science\\lib\\site-packages (from dash==2.14.2) (6.1.2)\n",
      "Requirement already satisfied: dash-html-components==2.0.0 in c:\\users\\silve\\documents\\data_science\\lib\\site-packages (from dash==2.14.2) (2.0.0)\n",
      "Requirement already satisfied: dash-core-components==2.0.0 in c:\\users\\silve\\documents\\data_science\\lib\\site-packages (from dash==2.14.2) (2.0.0)\n",
      "Requirement already satisfied: dash-table==5.0.0 in c:\\users\\silve\\documents\\data_science\\lib\\site-packages (from dash==2.14.2) (5.0.0)\n",
      "Requirement already satisfied: typing-extensions>=4.1.1 in c:\\users\\silve\\documents\\data_science\\lib\\site-packages (from dash==2.14.2) (4.11.0)\n",
      "Requirement already satisfied: requests in c:\\users\\silve\\documents\\data_science\\lib\\site-packages (from dash==2.14.2) (2.32.3)\n",
      "Requirement already satisfied: retrying in c:\\users\\silve\\documents\\data_science\\lib\\site-packages (from dash==2.14.2) (1.4.1)\n",
      "Requirement already satisfied: ansi2html in c:\\users\\silve\\documents\\data_science\\lib\\site-packages (from dash==2.14.2) (1.9.2)\n",
      "Requirement already satisfied: nest-asyncio in c:\\users\\silve\\documents\\data_science\\lib\\site-packages (from dash==2.14.2) (1.6.0)\n",
      "Requirement already satisfied: setuptools in c:\\users\\silve\\documents\\data_science\\lib\\site-packages (from dash==2.14.2) (75.1.0)\n",
      "Requirement already satisfied: importlib-metadata in c:\\users\\silve\\documents\\data_science\\lib\\site-packages (from dash==2.14.2) (7.0.1)\n",
      "Requirement already satisfied: ipython in c:\\users\\silve\\documents\\data_science\\lib\\site-packages (from jupyter-dash==0.4.2) (8.27.0)\n",
      "Requirement already satisfied: ipykernel in c:\\users\\silve\\documents\\data_science\\lib\\site-packages (from jupyter-dash==0.4.2) (6.28.0)\n",
      "Requirement already satisfied: Jinja2>=3.1.2 in c:\\users\\silve\\documents\\data_science\\lib\\site-packages (from Flask<3.1,>=1.0.4->dash==2.14.2) (3.1.4)\n",
      "Requirement already satisfied: itsdangerous>=2.1.2 in c:\\users\\silve\\documents\\data_science\\lib\\site-packages (from Flask<3.1,>=1.0.4->dash==2.14.2) (2.2.0)\n",
      "Requirement already satisfied: click>=8.1.3 in c:\\users\\silve\\documents\\data_science\\lib\\site-packages (from Flask<3.1,>=1.0.4->dash==2.14.2) (8.1.7)\n",
      "Requirement already satisfied: blinker>=1.6.2 in c:\\users\\silve\\documents\\data_science\\lib\\site-packages (from Flask<3.1,>=1.0.4->dash==2.14.2) (1.6.2)\n",
      "Requirement already satisfied: narwhals>=1.15.1 in c:\\users\\silve\\documents\\data_science\\lib\\site-packages (from plotly>=5.0.0->dash==2.14.2) (1.41.0)\n",
      "Requirement already satisfied: packaging in c:\\users\\silve\\documents\\data_science\\lib\\site-packages (from plotly>=5.0.0->dash==2.14.2) (24.1)\n",
      "Requirement already satisfied: MarkupSafe>=2.1.1 in c:\\users\\silve\\documents\\data_science\\lib\\site-packages (from Werkzeug<3.1->dash==2.14.2) (2.1.3)\n",
      "Requirement already satisfied: zipp>=0.5 in c:\\users\\silve\\documents\\data_science\\lib\\site-packages (from importlib-metadata->dash==2.14.2) (3.17.0)\n",
      "Requirement already satisfied: comm>=0.1.1 in c:\\users\\silve\\documents\\data_science\\lib\\site-packages (from ipykernel->jupyter-dash==0.4.2) (0.2.1)\n",
      "Requirement already satisfied: debugpy>=1.6.5 in c:\\users\\silve\\documents\\data_science\\lib\\site-packages (from ipykernel->jupyter-dash==0.4.2) (1.6.7)\n",
      "Requirement already satisfied: jupyter-client>=6.1.12 in c:\\users\\silve\\documents\\data_science\\lib\\site-packages (from ipykernel->jupyter-dash==0.4.2) (8.6.0)\n",
      "Requirement already satisfied: jupyter-core!=5.0.*,>=4.12 in c:\\users\\silve\\documents\\data_science\\lib\\site-packages (from ipykernel->jupyter-dash==0.4.2) (5.7.2)\n",
      "Requirement already satisfied: matplotlib-inline>=0.1 in c:\\users\\silve\\documents\\data_science\\lib\\site-packages (from ipykernel->jupyter-dash==0.4.2) (0.1.6)\n",
      "Requirement already satisfied: psutil in c:\\users\\silve\\documents\\data_science\\lib\\site-packages (from ipykernel->jupyter-dash==0.4.2) (5.9.0)\n",
      "Requirement already satisfied: pyzmq>=24 in c:\\users\\silve\\documents\\data_science\\lib\\site-packages (from ipykernel->jupyter-dash==0.4.2) (25.1.2)\n",
      "Requirement already satisfied: tornado>=6.1 in c:\\users\\silve\\documents\\data_science\\lib\\site-packages (from ipykernel->jupyter-dash==0.4.2) (6.4.1)\n",
      "Requirement already satisfied: traitlets>=5.4.0 in c:\\users\\silve\\documents\\data_science\\lib\\site-packages (from ipykernel->jupyter-dash==0.4.2) (5.14.3)\n",
      "Requirement already satisfied: decorator in c:\\users\\silve\\documents\\data_science\\lib\\site-packages (from ipython->jupyter-dash==0.4.2) (5.1.1)\n",
      "Requirement already satisfied: jedi>=0.16 in c:\\users\\silve\\documents\\data_science\\lib\\site-packages (from ipython->jupyter-dash==0.4.2) (0.19.1)\n",
      "Requirement already satisfied: prompt-toolkit<3.1.0,>=3.0.41 in c:\\users\\silve\\documents\\data_science\\lib\\site-packages (from ipython->jupyter-dash==0.4.2) (3.0.43)\n",
      "Requirement already satisfied: pygments>=2.4.0 in c:\\users\\silve\\documents\\data_science\\lib\\site-packages (from ipython->jupyter-dash==0.4.2) (2.15.1)\n",
      "Requirement already satisfied: stack-data in c:\\users\\silve\\documents\\data_science\\lib\\site-packages (from ipython->jupyter-dash==0.4.2) (0.2.0)\n",
      "Requirement already satisfied: colorama in c:\\users\\silve\\documents\\data_science\\lib\\site-packages (from ipython->jupyter-dash==0.4.2) (0.4.6)\n",
      "Requirement already satisfied: charset-normalizer<4,>=2 in c:\\users\\silve\\documents\\data_science\\lib\\site-packages (from requests->dash==2.14.2) (3.3.2)\n",
      "Requirement already satisfied: idna<4,>=2.5 in c:\\users\\silve\\documents\\data_science\\lib\\site-packages (from requests->dash==2.14.2) (3.7)\n",
      "Requirement already satisfied: urllib3<3,>=1.21.1 in c:\\users\\silve\\documents\\data_science\\lib\\site-packages (from requests->dash==2.14.2) (2.2.3)\n",
      "Requirement already satisfied: certifi>=2017.4.17 in c:\\users\\silve\\documents\\data_science\\lib\\site-packages (from requests->dash==2.14.2) (2024.8.30)\n",
      "Requirement already satisfied: parso<0.9.0,>=0.8.3 in c:\\users\\silve\\documents\\data_science\\lib\\site-packages (from jedi>=0.16->ipython->jupyter-dash==0.4.2) (0.8.3)\n",
      "Requirement already satisfied: python-dateutil>=2.8.2 in c:\\users\\silve\\documents\\data_science\\lib\\site-packages (from jupyter-client>=6.1.12->ipykernel->jupyter-dash==0.4.2) (2.9.0.post0)\n",
      "Requirement already satisfied: platformdirs>=2.5 in c:\\users\\silve\\documents\\data_science\\lib\\site-packages (from jupyter-core!=5.0.*,>=4.12->ipykernel->jupyter-dash==0.4.2) (3.10.0)\n",
      "Requirement already satisfied: pywin32>=300 in c:\\users\\silve\\documents\\data_science\\lib\\site-packages (from jupyter-core!=5.0.*,>=4.12->ipykernel->jupyter-dash==0.4.2) (305.1)\n",
      "Requirement already satisfied: wcwidth in c:\\users\\silve\\documents\\data_science\\lib\\site-packages (from prompt-toolkit<3.1.0,>=3.0.41->ipython->jupyter-dash==0.4.2) (0.2.5)\n",
      "Requirement already satisfied: executing in c:\\users\\silve\\documents\\data_science\\lib\\site-packages (from stack-data->ipython->jupyter-dash==0.4.2) (0.8.3)\n",
      "Requirement already satisfied: asttokens in c:\\users\\silve\\documents\\data_science\\lib\\site-packages (from stack-data->ipython->jupyter-dash==0.4.2) (2.0.5)\n",
      "Requirement already satisfied: pure-eval in c:\\users\\silve\\documents\\data_science\\lib\\site-packages (from stack-data->ipython->jupyter-dash==0.4.2) (0.2.2)\n",
      "Requirement already satisfied: six>=1.5 in c:\\users\\silve\\documents\\data_science\\lib\\site-packages (from python-dateutil>=2.8.2->jupyter-client>=6.1.12->ipykernel->jupyter-dash==0.4.2) (1.16.0)\n"
     ]
    }
   ],
   "source": [
    "%pip install dash==2.14.2 jupyter-dash==0.4.2"
   ]
  },
  {
   "cell_type": "code",
   "execution_count": 1,
   "id": "46b3a8b1-015a-4733-84bb-ca845da0baa0",
   "metadata": {},
   "outputs": [],
   "source": [
    "import pandas as pd\n",
    "import numpy as np\n",
    "import faker as Faker\n",
    "import sqlite3\n",
    "import matplotlib as plt\n",
    "import dash\n",
    "from jupyter_dash import JupyterDash\n",
    "from dash import dcc,html\n",
    "from dash.dependencies import Input,Output\n",
    "import plotly.express as px "
   ]
  },
  {
   "cell_type": "code",
   "execution_count": null,
   "id": "0b89a216-3db4-4093-8057-1a58b9e02d00",
   "metadata": {},
   "outputs": [],
   "source": []
  },
  {
   "cell_type": "code",
   "execution_count": null,
   "id": "4dfbd60a-a839-4fc8-8265-b3f410ec3760",
   "metadata": {},
   "outputs": [],
   "source": [
    "# Getting the data ready "
   ]
  },
  {
   "cell_type": "code",
   "execution_count": null,
   "id": "8878d342-1fa2-47a5-a6c6-3b2ee11efbb9",
   "metadata": {},
   "outputs": [],
   "source": [
    "fake=Faker()"
   ]
  },
  {
   "cell_type": "code",
   "execution_count": 16,
   "id": "b5869c26-84a5-4847-8033-f79ade99eb9e",
   "metadata": {},
   "outputs": [
    {
     "data": {
      "text/html": [
       "<div>\n",
       "<style scoped>\n",
       "    .dataframe tbody tr th:only-of-type {\n",
       "        vertical-align: middle;\n",
       "    }\n",
       "\n",
       "    .dataframe tbody tr th {\n",
       "        vertical-align: top;\n",
       "    }\n",
       "\n",
       "    .dataframe thead th {\n",
       "        text-align: right;\n",
       "    }\n",
       "</style>\n",
       "<table border=\"1\" class=\"dataframe\">\n",
       "  <thead>\n",
       "    <tr style=\"text-align: right;\">\n",
       "      <th></th>\n",
       "      <th>Transaction_ID</th>\n",
       "      <th>Customer_ID</th>\n",
       "      <th>Customer_Name</th>\n",
       "      <th>Transaction_Date</th>\n",
       "      <th>Amount</th>\n",
       "      <th>Status</th>\n",
       "      <th>Description</th>\n",
       "    </tr>\n",
       "  </thead>\n",
       "  <tbody>\n",
       "    <tr>\n",
       "      <th>0</th>\n",
       "      <td>TX000001</td>\n",
       "      <td>CUST0001</td>\n",
       "      <td>Erin Medina</td>\n",
       "      <td>2025-06-01</td>\n",
       "      <td>2388.29</td>\n",
       "      <td>Success</td>\n",
       "      <td>Biweekly Royalty + Marketing Fee</td>\n",
       "    </tr>\n",
       "  </tbody>\n",
       "</table>\n",
       "</div>"
      ],
      "text/plain": [
       "  Transaction_ID Customer_ID Customer_Name Transaction_Date   Amount   Status  \\\n",
       "0       TX000001    CUST0001   Erin Medina       2025-06-01  2388.29  Success   \n",
       "\n",
       "                        Description  \n",
       "0  Biweekly Royalty + Marketing Fee  "
      ]
     },
     "execution_count": 16,
     "metadata": {},
     "output_type": "execute_result"
    }
   ],
   "source": [
    "bank=pd.read_excel(r\"C:\\Users\\silve\\Desktop\\Data Science\\Projects\\Trade Franchises\\Meta Data\\Raw data\\franchise_bank_transactions.xlsx\")\n",
    "bank.head(1)"
   ]
  },
  {
   "cell_type": "code",
   "execution_count": 8,
   "id": "86898630-ab15-4344-9c97-aa72beb28fef",
   "metadata": {},
   "outputs": [
    {
     "data": {
      "text/plain": [
       "3600"
      ]
     },
     "execution_count": 8,
     "metadata": {},
     "output_type": "execute_result"
    }
   ],
   "source": [
    "conn=sqlite3.connect(r\"C:\\Users\\silve\\Desktop\\Data Science\\Projects\\Trade Franchises\\Notebooks\\Dashboard_\\franchise_data.db\")\n",
    "bank.to_sql(\"bank\",conn,if_exists=\"replace\",index=False)\n"
   ]
  },
  {
   "cell_type": "code",
   "execution_count": 9,
   "id": "c01011f3-4235-4219-bcd9-cc42b7518e50",
   "metadata": {},
   "outputs": [],
   "source": [
    "cur=conn.cursor()"
   ]
  },
  {
   "cell_type": "code",
   "execution_count": 17,
   "id": "76323a5a-b4c8-43bf-bd3f-a820822b487a",
   "metadata": {},
   "outputs": [
    {
     "data": {
      "text/html": [
       "<div>\n",
       "<style scoped>\n",
       "    .dataframe tbody tr th:only-of-type {\n",
       "        vertical-align: middle;\n",
       "    }\n",
       "\n",
       "    .dataframe tbody tr th {\n",
       "        vertical-align: top;\n",
       "    }\n",
       "\n",
       "    .dataframe thead th {\n",
       "        text-align: right;\n",
       "    }\n",
       "</style>\n",
       "<table border=\"1\" class=\"dataframe\">\n",
       "  <thead>\n",
       "    <tr style=\"text-align: right;\">\n",
       "      <th></th>\n",
       "      <th>Transaction_ID</th>\n",
       "      <th>Customer_ID</th>\n",
       "      <th>Customer_Name</th>\n",
       "      <th>Transaction_Date</th>\n",
       "      <th>Amount</th>\n",
       "      <th>Status</th>\n",
       "      <th>Description</th>\n",
       "    </tr>\n",
       "  </thead>\n",
       "  <tbody>\n",
       "    <tr>\n",
       "      <th>0</th>\n",
       "      <td>TX000074</td>\n",
       "      <td>CUST0013</td>\n",
       "      <td>Janice Lee</td>\n",
       "      <td>2025-06-15</td>\n",
       "      <td>2287.27</td>\n",
       "      <td>Bounced</td>\n",
       "      <td>Biweekly Royalty + Marketing Fee</td>\n",
       "    </tr>\n",
       "  </tbody>\n",
       "</table>\n",
       "</div>"
      ],
      "text/plain": [
       "  Transaction_ID Customer_ID Customer_Name Transaction_Date   Amount   Status  \\\n",
       "0       TX000074    CUST0013    Janice Lee       2025-06-15  2287.27  Bounced   \n",
       "\n",
       "                        Description  \n",
       "0  Biweekly Royalty + Marketing Fee  "
      ]
     },
     "execution_count": 17,
     "metadata": {},
     "output_type": "execute_result"
    }
   ],
   "source": [
    "bounced=pd.read_sql(\"SELECT * FROM bank WHERE Status='Bounced'\", conn)\n",
    "bounced.head(1)"
   ]
  },
  {
   "cell_type": "code",
   "execution_count": 18,
   "id": "47bc3389-49ca-4cf4-9715-97a981881786",
   "metadata": {},
   "outputs": [
    {
     "data": {
      "text/html": [
       "<div>\n",
       "<style scoped>\n",
       "    .dataframe tbody tr th:only-of-type {\n",
       "        vertical-align: middle;\n",
       "    }\n",
       "\n",
       "    .dataframe tbody tr th {\n",
       "        vertical-align: top;\n",
       "    }\n",
       "\n",
       "    .dataframe thead th {\n",
       "        text-align: right;\n",
       "    }\n",
       "</style>\n",
       "<table border=\"1\" class=\"dataframe\">\n",
       "  <thead>\n",
       "    <tr style=\"text-align: right;\">\n",
       "      <th></th>\n",
       "      <th>Transaction_ID</th>\n",
       "      <th>Customer_ID</th>\n",
       "      <th>Customer_Name</th>\n",
       "      <th>Transaction_Date</th>\n",
       "      <th>Amount</th>\n",
       "      <th>Status</th>\n",
       "      <th>Description</th>\n",
       "    </tr>\n",
       "  </thead>\n",
       "  <tbody>\n",
       "    <tr>\n",
       "      <th>16</th>\n",
       "      <td>TX001383</td>\n",
       "      <td>CUST0231</td>\n",
       "      <td>Patrick Navarro</td>\n",
       "      <td>2025-06-29</td>\n",
       "      <td>2992.03</td>\n",
       "      <td>Bounced</td>\n",
       "      <td>Biweekly Royalty + Marketing Fee</td>\n",
       "    </tr>\n",
       "    <tr>\n",
       "      <th>31</th>\n",
       "      <td>TX002919</td>\n",
       "      <td>CUST0487</td>\n",
       "      <td>Robert Nelson</td>\n",
       "      <td>2025-06-29</td>\n",
       "      <td>2920.34</td>\n",
       "      <td>Bounced</td>\n",
       "      <td>Biweekly Royalty + Marketing Fee</td>\n",
       "    </tr>\n",
       "    <tr>\n",
       "      <th>34</th>\n",
       "      <td>TX003468</td>\n",
       "      <td>CUST0578</td>\n",
       "      <td>Rebecca Collins</td>\n",
       "      <td>2025-08-10</td>\n",
       "      <td>2811.20</td>\n",
       "      <td>Bounced</td>\n",
       "      <td>Biweekly Royalty + Marketing Fee</td>\n",
       "    </tr>\n",
       "  </tbody>\n",
       "</table>\n",
       "</div>"
      ],
      "text/plain": [
       "   Transaction_ID Customer_ID    Customer_Name Transaction_Date   Amount  \\\n",
       "16       TX001383    CUST0231  Patrick Navarro       2025-06-29  2992.03   \n",
       "31       TX002919    CUST0487    Robert Nelson       2025-06-29  2920.34   \n",
       "34       TX003468    CUST0578  Rebecca Collins       2025-08-10  2811.20   \n",
       "\n",
       "     Status                       Description  \n",
       "16  Bounced  Biweekly Royalty + Marketing Fee  \n",
       "31  Bounced  Biweekly Royalty + Marketing Fee  \n",
       "34  Bounced  Biweekly Royalty + Marketing Fee  "
      ]
     },
     "execution_count": 18,
     "metadata": {},
     "output_type": "execute_result"
    }
   ],
   "source": [
    "\n",
    "bounced10=bounced.sort_values(by=\"Amount\", ascending=False)\n",
    "bounced10.head(3)"
   ]
  },
  {
   "cell_type": "code",
   "execution_count": null,
   "id": "0c7c1e10-f331-4f1a-aa2e-fb4952e18c6b",
   "metadata": {},
   "outputs": [],
   "source": []
  },
  {
   "cell_type": "code",
   "execution_count": null,
   "id": "3610fa23-b2fb-4aab-895d-d5d1d48fd3cd",
   "metadata": {},
   "outputs": [],
   "source": [
    "#Dashboard to show the data"
   ]
  },
  {
   "cell_type": "code",
   "execution_count": 13,
   "id": "70018fff-99c4-4e32-acd4-6ab5c6fbb101",
   "metadata": {},
   "outputs": [],
   "source": [
    "app=dash.Dash(__name__)\n",
    "app.title=\"Bank Reconciliation\""
   ]
  },
  {
   "cell_type": "code",
   "execution_count": 14,
   "id": "552ebc32-8688-40a7-b526-c671014d7358",
   "metadata": {},
   "outputs": [],
   "source": [
    "app.layout=html.Div([\n",
    "    html.H1(\"Bank Reconciliation\"),\n",
    "\n",
    "    html.Label(\"Choose a column for Visualization\"),\n",
    "\n",
    "    dcc.Dropdown(\n",
    "        id=\"column-dropdown\",\n",
    "        options=[{\"label\":\"Bounced 10 Transactions\",\"value\":1},\n",
    "                 {\"label\":\"All Bounced Transaction\",\"value\":2}],\n",
    "        value=1\n",
    "    ),\n",
    "    dcc.Graph(id=\"eda-graph\")\n",
    "])"
   ]
  },
  {
   "cell_type": "code",
   "execution_count": 15,
   "id": "c8f90a1a-b898-4fa0-9c62-108a17102eea",
   "metadata": {},
   "outputs": [
    {
     "data": {
      "text/html": [
       "\n",
       "        <iframe\n",
       "            width=\"100%\"\n",
       "            height=\"650\"\n",
       "            src=\"http://127.0.0.1:8053/\"\n",
       "            frameborder=\"0\"\n",
       "            allowfullscreen\n",
       "            \n",
       "        ></iframe>\n",
       "        "
      ],
      "text/plain": [
       "<IPython.lib.display.IFrame at 0x27d9a97ea50>"
      ]
     },
     "metadata": {},
     "output_type": "display_data"
    }
   ],
   "source": [
    "@app.callback(\n",
    "    Output(\"eda-graph\",\"figure\"),\n",
    "    Input(\"column-dropdown\",\"value\")\n",
    ")\n",
    "\n",
    "def update_figure(selected_column):\n",
    "    if selected_column==1:\n",
    "        fig=px.histogram(bounced,x=\"Amount\")\n",
    "    elif selected_column==2:\n",
    "        fig=px.bar(bounced10, x=\"Customer_Name\",y=\"Amount\")\n",
    "    else:\n",
    "        fig=px.scatter(bounced, x=\"Customer_Name\",y=\"Amount\")\n",
    "    return fig\n",
    "\n",
    "\n",
    "app.run_server(port=8053,mode=\"external\")\n",
    "                   "
   ]
  },
  {
   "cell_type": "code",
   "execution_count": null,
   "id": "e30e39cd-6c72-4791-b538-7fc3a2828b20",
   "metadata": {},
   "outputs": [],
   "source": []
  }
 ],
 "metadata": {
  "kernelspec": {
   "display_name": "Python 3 (ipykernel)",
   "language": "python",
   "name": "python3"
  },
  "language_info": {
   "codemirror_mode": {
    "name": "ipython",
    "version": 3
   },
   "file_extension": ".py",
   "mimetype": "text/x-python",
   "name": "python",
   "nbconvert_exporter": "python",
   "pygments_lexer": "ipython3",
   "version": "3.12.7"
  }
 },
 "nbformat": 4,
 "nbformat_minor": 5
}
