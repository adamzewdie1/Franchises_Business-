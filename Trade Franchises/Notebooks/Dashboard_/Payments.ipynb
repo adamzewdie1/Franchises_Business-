{
 "cells": [
  {
   "cell_type": "code",
   "execution_count": 1,
   "id": "5408b656-cf60-43d1-ad4a-1ab0aec6fe86",
   "metadata": {},
   "outputs": [
    {
     "name": "stdout",
     "output_type": "stream",
     "text": [
      "Requirement already satisfied: pandas in c:\\users\\silve\\documents\\data_science\\lib\\site-packages (2.2.2)\n",
      "Requirement already satisfied: numpy>=1.26.0 in c:\\users\\silve\\documents\\data_science\\lib\\site-packages (from pandas) (1.26.4)\n",
      "Requirement already satisfied: python-dateutil>=2.8.2 in c:\\users\\silve\\documents\\data_science\\lib\\site-packages (from pandas) (2.9.0.post0)\n",
      "Requirement already satisfied: pytz>=2020.1 in c:\\users\\silve\\documents\\data_science\\lib\\site-packages (from pandas) (2024.1)\n",
      "Requirement already satisfied: tzdata>=2022.7 in c:\\users\\silve\\documents\\data_science\\lib\\site-packages (from pandas) (2023.3)\n",
      "Requirement already satisfied: six>=1.5 in c:\\users\\silve\\documents\\data_science\\lib\\site-packages (from python-dateutil>=2.8.2->pandas) (1.16.0)\n",
      "Note: you may need to restart the kernel to use updated packages.\n",
      "Requirement already satisfied: numpy in c:\\users\\silve\\documents\\data_science\\lib\\site-packages (1.26.4)\n",
      "Note: you may need to restart the kernel to use updated packages.\n"
     ]
    }
   ],
   "source": [
    "%pip install pandas\n",
    "%pip install numpy"
   ]
  },
  {
   "cell_type": "code",
   "execution_count": 2,
   "id": "bd6381f4-289f-4976-941b-bb6573bb936f",
   "metadata": {},
   "outputs": [
    {
     "name": "stdout",
     "output_type": "stream",
     "text": [
      "Requirement already satisfied: matplotlib in c:\\users\\silve\\documents\\data_science\\lib\\site-packages (3.9.2)\n",
      "Requirement already satisfied: contourpy>=1.0.1 in c:\\users\\silve\\documents\\data_science\\lib\\site-packages (from matplotlib) (1.2.0)\n",
      "Requirement already satisfied: cycler>=0.10 in c:\\users\\silve\\documents\\data_science\\lib\\site-packages (from matplotlib) (0.11.0)\n",
      "Requirement already satisfied: fonttools>=4.22.0 in c:\\users\\silve\\documents\\data_science\\lib\\site-packages (from matplotlib) (4.51.0)\n",
      "Requirement already satisfied: kiwisolver>=1.3.1 in c:\\users\\silve\\documents\\data_science\\lib\\site-packages (from matplotlib) (1.4.4)\n",
      "Requirement already satisfied: numpy>=1.23 in c:\\users\\silve\\documents\\data_science\\lib\\site-packages (from matplotlib) (1.26.4)\n",
      "Requirement already satisfied: packaging>=20.0 in c:\\users\\silve\\documents\\data_science\\lib\\site-packages (from matplotlib) (24.1)\n",
      "Requirement already satisfied: pillow>=8 in c:\\users\\silve\\documents\\data_science\\lib\\site-packages (from matplotlib) (10.4.0)\n",
      "Requirement already satisfied: pyparsing>=2.3.1 in c:\\users\\silve\\documents\\data_science\\lib\\site-packages (from matplotlib) (3.1.2)\n",
      "Requirement already satisfied: python-dateutil>=2.7 in c:\\users\\silve\\documents\\data_science\\lib\\site-packages (from matplotlib) (2.9.0.post0)\n",
      "Requirement already satisfied: six>=1.5 in c:\\users\\silve\\documents\\data_science\\lib\\site-packages (from python-dateutil>=2.7->matplotlib) (1.16.0)\n",
      "Note: you may need to restart the kernel to use updated packages.\n",
      "Requirement already satisfied: dash==2.14.2 in c:\\users\\silve\\documents\\data_science\\lib\\site-packages (2.14.2)\n",
      "Requirement already satisfied: jupyter-dash==0.4.2 in c:\\users\\silve\\documents\\data_science\\lib\\site-packages (0.4.2)\n",
      "Requirement already satisfied: Flask<3.1,>=1.0.4 in c:\\users\\silve\\documents\\data_science\\lib\\site-packages (from dash==2.14.2) (3.0.3)\n",
      "Requirement already satisfied: Werkzeug<3.1 in c:\\users\\silve\\documents\\data_science\\lib\\site-packages (from dash==2.14.2) (3.0.3)\n",
      "Requirement already satisfied: plotly>=5.0.0 in c:\\users\\silve\\documents\\data_science\\lib\\site-packages (from dash==2.14.2) (6.1.2)\n",
      "Requirement already satisfied: dash-html-components==2.0.0 in c:\\users\\silve\\documents\\data_science\\lib\\site-packages (from dash==2.14.2) (2.0.0)\n",
      "Requirement already satisfied: dash-core-components==2.0.0 in c:\\users\\silve\\documents\\data_science\\lib\\site-packages (from dash==2.14.2) (2.0.0)\n",
      "Requirement already satisfied: dash-table==5.0.0 in c:\\users\\silve\\documents\\data_science\\lib\\site-packages (from dash==2.14.2) (5.0.0)\n",
      "Requirement already satisfied: typing-extensions>=4.1.1 in c:\\users\\silve\\documents\\data_science\\lib\\site-packages (from dash==2.14.2) (4.11.0)\n",
      "Requirement already satisfied: requests in c:\\users\\silve\\documents\\data_science\\lib\\site-packages (from dash==2.14.2) (2.32.3)\n",
      "Requirement already satisfied: retrying in c:\\users\\silve\\documents\\data_science\\lib\\site-packages (from dash==2.14.2) (1.4.1)\n",
      "Requirement already satisfied: ansi2html in c:\\users\\silve\\documents\\data_science\\lib\\site-packages (from dash==2.14.2) (1.9.2)\n",
      "Requirement already satisfied: nest-asyncio in c:\\users\\silve\\documents\\data_science\\lib\\site-packages (from dash==2.14.2) (1.6.0)\n",
      "Requirement already satisfied: setuptools in c:\\users\\silve\\documents\\data_science\\lib\\site-packages (from dash==2.14.2) (75.1.0)\n",
      "Requirement already satisfied: importlib-metadata in c:\\users\\silve\\documents\\data_science\\lib\\site-packages (from dash==2.14.2) (7.0.1)\n",
      "Requirement already satisfied: ipython in c:\\users\\silve\\documents\\data_science\\lib\\site-packages (from jupyter-dash==0.4.2) (8.27.0)\n",
      "Requirement already satisfied: ipykernel in c:\\users\\silve\\documents\\data_science\\lib\\site-packages (from jupyter-dash==0.4.2) (6.28.0)\n",
      "Requirement already satisfied: Jinja2>=3.1.2 in c:\\users\\silve\\documents\\data_science\\lib\\site-packages (from Flask<3.1,>=1.0.4->dash==2.14.2) (3.1.4)\n",
      "Requirement already satisfied: itsdangerous>=2.1.2 in c:\\users\\silve\\documents\\data_science\\lib\\site-packages (from Flask<3.1,>=1.0.4->dash==2.14.2) (2.2.0)\n",
      "Requirement already satisfied: click>=8.1.3 in c:\\users\\silve\\documents\\data_science\\lib\\site-packages (from Flask<3.1,>=1.0.4->dash==2.14.2) (8.1.7)\n",
      "Requirement already satisfied: blinker>=1.6.2 in c:\\users\\silve\\documents\\data_science\\lib\\site-packages (from Flask<3.1,>=1.0.4->dash==2.14.2) (1.6.2)\n",
      "Requirement already satisfied: narwhals>=1.15.1 in c:\\users\\silve\\documents\\data_science\\lib\\site-packages (from plotly>=5.0.0->dash==2.14.2) (1.41.0)\n",
      "Requirement already satisfied: packaging in c:\\users\\silve\\documents\\data_science\\lib\\site-packages (from plotly>=5.0.0->dash==2.14.2) (24.1)\n",
      "Requirement already satisfied: MarkupSafe>=2.1.1 in c:\\users\\silve\\documents\\data_science\\lib\\site-packages (from Werkzeug<3.1->dash==2.14.2) (2.1.3)\n",
      "Requirement already satisfied: zipp>=0.5 in c:\\users\\silve\\documents\\data_science\\lib\\site-packages (from importlib-metadata->dash==2.14.2) (3.17.0)\n",
      "Requirement already satisfied: comm>=0.1.1 in c:\\users\\silve\\documents\\data_science\\lib\\site-packages (from ipykernel->jupyter-dash==0.4.2) (0.2.1)\n",
      "Requirement already satisfied: debugpy>=1.6.5 in c:\\users\\silve\\documents\\data_science\\lib\\site-packages (from ipykernel->jupyter-dash==0.4.2) (1.6.7)\n",
      "Requirement already satisfied: jupyter-client>=6.1.12 in c:\\users\\silve\\documents\\data_science\\lib\\site-packages (from ipykernel->jupyter-dash==0.4.2) (8.6.0)\n",
      "Requirement already satisfied: jupyter-core!=5.0.*,>=4.12 in c:\\users\\silve\\documents\\data_science\\lib\\site-packages (from ipykernel->jupyter-dash==0.4.2) (5.7.2)\n",
      "Requirement already satisfied: matplotlib-inline>=0.1 in c:\\users\\silve\\documents\\data_science\\lib\\site-packages (from ipykernel->jupyter-dash==0.4.2) (0.1.6)\n",
      "Requirement already satisfied: psutil in c:\\users\\silve\\documents\\data_science\\lib\\site-packages (from ipykernel->jupyter-dash==0.4.2) (5.9.0)\n",
      "Requirement already satisfied: pyzmq>=24 in c:\\users\\silve\\documents\\data_science\\lib\\site-packages (from ipykernel->jupyter-dash==0.4.2) (25.1.2)\n",
      "Requirement already satisfied: tornado>=6.1 in c:\\users\\silve\\documents\\data_science\\lib\\site-packages (from ipykernel->jupyter-dash==0.4.2) (6.4.1)\n",
      "Requirement already satisfied: traitlets>=5.4.0 in c:\\users\\silve\\documents\\data_science\\lib\\site-packages (from ipykernel->jupyter-dash==0.4.2) (5.14.3)\n",
      "Requirement already satisfied: decorator in c:\\users\\silve\\documents\\data_science\\lib\\site-packages (from ipython->jupyter-dash==0.4.2) (5.1.1)\n",
      "Requirement already satisfied: jedi>=0.16 in c:\\users\\silve\\documents\\data_science\\lib\\site-packages (from ipython->jupyter-dash==0.4.2) (0.19.1)\n",
      "Requirement already satisfied: prompt-toolkit<3.1.0,>=3.0.41 in c:\\users\\silve\\documents\\data_science\\lib\\site-packages (from ipython->jupyter-dash==0.4.2) (3.0.43)\n",
      "Requirement already satisfied: pygments>=2.4.0 in c:\\users\\silve\\documents\\data_science\\lib\\site-packages (from ipython->jupyter-dash==0.4.2) (2.15.1)\n",
      "Requirement already satisfied: stack-data in c:\\users\\silve\\documents\\data_science\\lib\\site-packages (from ipython->jupyter-dash==0.4.2) (0.2.0)\n",
      "Requirement already satisfied: colorama in c:\\users\\silve\\documents\\data_science\\lib\\site-packages (from ipython->jupyter-dash==0.4.2) (0.4.6)\n",
      "Requirement already satisfied: charset-normalizer<4,>=2 in c:\\users\\silve\\documents\\data_science\\lib\\site-packages (from requests->dash==2.14.2) (3.3.2)\n",
      "Requirement already satisfied: idna<4,>=2.5 in c:\\users\\silve\\documents\\data_science\\lib\\site-packages (from requests->dash==2.14.2) (3.7)\n",
      "Requirement already satisfied: urllib3<3,>=1.21.1 in c:\\users\\silve\\documents\\data_science\\lib\\site-packages (from requests->dash==2.14.2) (2.2.3)\n",
      "Requirement already satisfied: certifi>=2017.4.17 in c:\\users\\silve\\documents\\data_science\\lib\\site-packages (from requests->dash==2.14.2) (2024.8.30)\n",
      "Requirement already satisfied: parso<0.9.0,>=0.8.3 in c:\\users\\silve\\documents\\data_science\\lib\\site-packages (from jedi>=0.16->ipython->jupyter-dash==0.4.2) (0.8.3)\n",
      "Requirement already satisfied: python-dateutil>=2.8.2 in c:\\users\\silve\\documents\\data_science\\lib\\site-packages (from jupyter-client>=6.1.12->ipykernel->jupyter-dash==0.4.2) (2.9.0.post0)\n",
      "Requirement already satisfied: platformdirs>=2.5 in c:\\users\\silve\\documents\\data_science\\lib\\site-packages (from jupyter-core!=5.0.*,>=4.12->ipykernel->jupyter-dash==0.4.2) (3.10.0)\n",
      "Requirement already satisfied: pywin32>=300 in c:\\users\\silve\\documents\\data_science\\lib\\site-packages (from jupyter-core!=5.0.*,>=4.12->ipykernel->jupyter-dash==0.4.2) (305.1)\n",
      "Requirement already satisfied: wcwidth in c:\\users\\silve\\documents\\data_science\\lib\\site-packages (from prompt-toolkit<3.1.0,>=3.0.41->ipython->jupyter-dash==0.4.2) (0.2.5)\n",
      "Requirement already satisfied: executing in c:\\users\\silve\\documents\\data_science\\lib\\site-packages (from stack-data->ipython->jupyter-dash==0.4.2) (0.8.3)\n",
      "Requirement already satisfied: asttokens in c:\\users\\silve\\documents\\data_science\\lib\\site-packages (from stack-data->ipython->jupyter-dash==0.4.2) (2.0.5)\n",
      "Requirement already satisfied: pure-eval in c:\\users\\silve\\documents\\data_science\\lib\\site-packages (from stack-data->ipython->jupyter-dash==0.4.2) (0.2.2)\n",
      "Requirement already satisfied: six>=1.5 in c:\\users\\silve\\documents\\data_science\\lib\\site-packages (from python-dateutil>=2.8.2->jupyter-client>=6.1.12->ipykernel->jupyter-dash==0.4.2) (1.16.0)\n",
      "Note: you may need to restart the kernel to use updated packages.\n"
     ]
    }
   ],
   "source": [
    "%pip install matplotlib\n",
    "%pip install dash==2.14.2 jupyter-dash==0.4.2"
   ]
  },
  {
   "cell_type": "code",
   "execution_count": 2,
   "id": "d496a045-85ec-4435-8b02-d52f2d7dc5a9",
   "metadata": {},
   "outputs": [],
   "source": [
    "import pandas as pd\n",
    "import numpy as np\n",
    "import matplotlib as plt"
   ]
  },
  {
   "cell_type": "code",
   "execution_count": null,
   "id": "11fd5b7e-e6e5-4991-af96-5b457b8894b5",
   "metadata": {},
   "outputs": [],
   "source": []
  },
  {
   "cell_type": "code",
   "execution_count": null,
   "id": "d0af61b6-8ad8-4968-afd2-61b2254ddd11",
   "metadata": {},
   "outputs": [],
   "source": [
    "# get the data ready"
   ]
  },
  {
   "cell_type": "code",
   "execution_count": 4,
   "id": "7c90d67b-eb42-4d58-a20d-c5595a97de71",
   "metadata": {},
   "outputs": [
    {
     "data": {
      "text/html": [
       "<div>\n",
       "<style scoped>\n",
       "    .dataframe tbody tr th:only-of-type {\n",
       "        vertical-align: middle;\n",
       "    }\n",
       "\n",
       "    .dataframe tbody tr th {\n",
       "        vertical-align: top;\n",
       "    }\n",
       "\n",
       "    .dataframe thead th {\n",
       "        text-align: right;\n",
       "    }\n",
       "</style>\n",
       "<table border=\"1\" class=\"dataframe\">\n",
       "  <thead>\n",
       "    <tr style=\"text-align: right;\">\n",
       "      <th></th>\n",
       "      <th>Store_ID</th>\n",
       "      <th>Missed_Payments_12mo</th>\n",
       "      <th>Missed_Payments_6mo</th>\n",
       "      <th>Missed_Payments_3mo</th>\n",
       "      <th>Initial_Fee_Paid</th>\n",
       "      <th>Initial_Fee_Remaining</th>\n",
       "      <th>Initial_Fee_On_Schedule</th>\n",
       "      <th>Royalty_Paid_Expected</th>\n",
       "      <th>Royalty_Paid_Actual</th>\n",
       "      <th>Marketing_Paid_Expected</th>\n",
       "      <th>Marketing_Paid_Actual</th>\n",
       "      <th>Min_Royalty_Biweekly</th>\n",
       "      <th>Missed_Marketing_Payment_Streak</th>\n",
       "    </tr>\n",
       "  </thead>\n",
       "  <tbody>\n",
       "    <tr>\n",
       "      <th>0</th>\n",
       "      <td>STORE_0</td>\n",
       "      <td>2</td>\n",
       "      <td>1</td>\n",
       "      <td>1</td>\n",
       "      <td>29850</td>\n",
       "      <td>10000</td>\n",
       "      <td>Yes</td>\n",
       "      <td>19046</td>\n",
       "      <td>750</td>\n",
       "      <td>900</td>\n",
       "      <td>6000</td>\n",
       "      <td>750</td>\n",
       "      <td>2</td>\n",
       "    </tr>\n",
       "  </tbody>\n",
       "</table>\n",
       "</div>"
      ],
      "text/plain": [
       "  Store_ID  Missed_Payments_12mo  Missed_Payments_6mo  Missed_Payments_3mo  \\\n",
       "0  STORE_0                     2                    1                    1   \n",
       "\n",
       "   Initial_Fee_Paid  Initial_Fee_Remaining Initial_Fee_On_Schedule  \\\n",
       "0             29850                  10000                     Yes   \n",
       "\n",
       "   Royalty_Paid_Expected  Royalty_Paid_Actual  Marketing_Paid_Expected  \\\n",
       "0                  19046                  750                      900   \n",
       "\n",
       "   Marketing_Paid_Actual  Min_Royalty_Biweekly  \\\n",
       "0                   6000                   750   \n",
       "\n",
       "   Missed_Marketing_Payment_Streak  \n",
       "0                                2  "
      ]
     },
     "execution_count": 4,
     "metadata": {},
     "output_type": "execute_result"
    }
   ],
   "source": [
    "pay=pd.read_csv(r\"C:\\Users\\silve\\Desktop\\Data Science\\Projects\\Trade Franchises\\Meta Data\\Raw data\\Payments.csv\")\n",
    "pay.head(1)"
   ]
  },
  {
   "cell_type": "code",
   "execution_count": 5,
   "id": "66074619-7976-4082-ac64-afbfd5e6bfba",
   "metadata": {},
   "outputs": [
    {
     "data": {
      "text/html": [
       "<div>\n",
       "<style scoped>\n",
       "    .dataframe tbody tr th:only-of-type {\n",
       "        vertical-align: middle;\n",
       "    }\n",
       "\n",
       "    .dataframe tbody tr th {\n",
       "        vertical-align: top;\n",
       "    }\n",
       "\n",
       "    .dataframe thead th {\n",
       "        text-align: right;\n",
       "    }\n",
       "</style>\n",
       "<table border=\"1\" class=\"dataframe\">\n",
       "  <thead>\n",
       "    <tr style=\"text-align: right;\">\n",
       "      <th></th>\n",
       "      <th>Store_ID</th>\n",
       "      <th>Missed_Payments_12mo</th>\n",
       "      <th>Missed_Payments_6mo</th>\n",
       "      <th>Missed_Payments_3mo</th>\n",
       "      <th>Initial_Fee_Paid</th>\n",
       "      <th>Initial_Fee_Remaining</th>\n",
       "      <th>Initial_Fee_On_Schedule</th>\n",
       "      <th>Royalty_Paid_Expected</th>\n",
       "      <th>Royalty_Paid_Actual</th>\n",
       "      <th>Marketing_Paid_Expected</th>\n",
       "      <th>Marketing_Paid_Actual</th>\n",
       "      <th>Min_Royalty_Biweekly</th>\n",
       "      <th>Missed_Marketing_Payment_Streak</th>\n",
       "      <th>Missed_Payments_YTD</th>\n",
       "    </tr>\n",
       "  </thead>\n",
       "  <tbody>\n",
       "    <tr>\n",
       "      <th>0</th>\n",
       "      <td>STORE_0</td>\n",
       "      <td>2</td>\n",
       "      <td>1</td>\n",
       "      <td>1</td>\n",
       "      <td>29850</td>\n",
       "      <td>10000</td>\n",
       "      <td>Yes</td>\n",
       "      <td>19046</td>\n",
       "      <td>750</td>\n",
       "      <td>900</td>\n",
       "      <td>6000</td>\n",
       "      <td>750</td>\n",
       "      <td>2</td>\n",
       "      <td>2</td>\n",
       "    </tr>\n",
       "  </tbody>\n",
       "</table>\n",
       "</div>"
      ],
      "text/plain": [
       "  Store_ID  Missed_Payments_12mo  Missed_Payments_6mo  Missed_Payments_3mo  \\\n",
       "0  STORE_0                     2                    1                    1   \n",
       "\n",
       "   Initial_Fee_Paid  Initial_Fee_Remaining Initial_Fee_On_Schedule  \\\n",
       "0             29850                  10000                     Yes   \n",
       "\n",
       "   Royalty_Paid_Expected  Royalty_Paid_Actual  Marketing_Paid_Expected  \\\n",
       "0                  19046                  750                      900   \n",
       "\n",
       "   Marketing_Paid_Actual  Min_Royalty_Biweekly  \\\n",
       "0                   6000                   750   \n",
       "\n",
       "   Missed_Marketing_Payment_Streak  Missed_Payments_YTD  \n",
       "0                                2                    2  "
      ]
     },
     "execution_count": 5,
     "metadata": {},
     "output_type": "execute_result"
    }
   ],
   "source": [
    "pay[\"Missed_Payments_YTD\"]=pay[\"Missed_Payments_6mo\"]+pay[\"Missed_Payments_3mo\"]\n",
    "pay.head(1)"
   ]
  },
  {
   "cell_type": "code",
   "execution_count": 6,
   "id": "cdd41859-74ce-4cc0-9f24-b8bd25d3be7c",
   "metadata": {},
   "outputs": [
    {
     "data": {
      "text/html": [
       "<div>\n",
       "<style scoped>\n",
       "    .dataframe tbody tr th:only-of-type {\n",
       "        vertical-align: middle;\n",
       "    }\n",
       "\n",
       "    .dataframe tbody tr th {\n",
       "        vertical-align: top;\n",
       "    }\n",
       "\n",
       "    .dataframe thead th {\n",
       "        text-align: right;\n",
       "    }\n",
       "</style>\n",
       "<table border=\"1\" class=\"dataframe\">\n",
       "  <thead>\n",
       "    <tr style=\"text-align: right;\">\n",
       "      <th></th>\n",
       "      <th>Store_ID</th>\n",
       "      <th>Missed_Payments_12mo</th>\n",
       "      <th>Missed_Payments_YTD</th>\n",
       "      <th>Missed_Payments_6mo</th>\n",
       "      <th>Missed_Payments_3mo</th>\n",
       "    </tr>\n",
       "  </thead>\n",
       "  <tbody>\n",
       "    <tr>\n",
       "      <th>0</th>\n",
       "      <td>STORE_0</td>\n",
       "      <td>2</td>\n",
       "      <td>2</td>\n",
       "      <td>1</td>\n",
       "      <td>1</td>\n",
       "    </tr>\n",
       "  </tbody>\n",
       "</table>\n",
       "</div>"
      ],
      "text/plain": [
       "  Store_ID  Missed_Payments_12mo  Missed_Payments_YTD  Missed_Payments_6mo  \\\n",
       "0  STORE_0                     2                    2                    1   \n",
       "\n",
       "   Missed_Payments_3mo  \n",
       "0                    1  "
      ]
     },
     "execution_count": 6,
     "metadata": {},
     "output_type": "execute_result"
    }
   ],
   "source": [
    "missed=pay[[\"Store_ID\",\"Missed_Payments_12mo\",\"Missed_Payments_YTD\",\"Missed_Payments_6mo\",\"Missed_Payments_3mo\"]]\n",
    "missed.head(1)"
   ]
  },
  {
   "cell_type": "code",
   "execution_count": 7,
   "id": "9aa3a3c4-6a93-4f66-9bdf-3ed844c1aa45",
   "metadata": {},
   "outputs": [
    {
     "data": {
      "text/html": [
       "<div>\n",
       "<style scoped>\n",
       "    .dataframe tbody tr th:only-of-type {\n",
       "        vertical-align: middle;\n",
       "    }\n",
       "\n",
       "    .dataframe tbody tr th {\n",
       "        vertical-align: top;\n",
       "    }\n",
       "\n",
       "    .dataframe thead th {\n",
       "        text-align: right;\n",
       "    }\n",
       "</style>\n",
       "<table border=\"1\" class=\"dataframe\">\n",
       "  <thead>\n",
       "    <tr style=\"text-align: right;\">\n",
       "      <th></th>\n",
       "      <th>Store_ID</th>\n",
       "      <th>Missed_Payments_12mo</th>\n",
       "      <th>Missed_Payments_YTD</th>\n",
       "      <th>Missed_Payments_6mo</th>\n",
       "      <th>Missed_Payments_3mo</th>\n",
       "    </tr>\n",
       "  </thead>\n",
       "  <tbody>\n",
       "    <tr>\n",
       "      <th>155</th>\n",
       "      <td>STORE_155</td>\n",
       "      <td>0</td>\n",
       "      <td>6</td>\n",
       "      <td>2</td>\n",
       "      <td>4</td>\n",
       "    </tr>\n",
       "  </tbody>\n",
       "</table>\n",
       "</div>"
      ],
      "text/plain": [
       "      Store_ID  Missed_Payments_12mo  Missed_Payments_YTD  \\\n",
       "155  STORE_155                     0                    6   \n",
       "\n",
       "     Missed_Payments_6mo  Missed_Payments_3mo  \n",
       "155                    2                    4  "
      ]
     },
     "execution_count": 7,
     "metadata": {},
     "output_type": "execute_result"
    }
   ],
   "source": [
    "mo12=missed.sort_values(by=\"Missed_Payments_12mo\", ascending=False)\n",
    "ytd=missed.sort_values(by=\"Missed_Payments_YTD\",ascending=False)\n",
    "mo6=missed.sort_values(by=\"Missed_Payments_6mo\",ascending=False)\n",
    "mo3=missed.sort_values(by=\"Missed_Payments_3mo\",ascending=False)\n",
    "\n",
    "ytd.head(1)"
   ]
  },
  {
   "cell_type": "code",
   "execution_count": 8,
   "id": "2184e561-b41a-40de-8cf6-31661de7d3f0",
   "metadata": {},
   "outputs": [
    {
     "data": {
      "text/html": [
       "<div>\n",
       "<style scoped>\n",
       "    .dataframe tbody tr th:only-of-type {\n",
       "        vertical-align: middle;\n",
       "    }\n",
       "\n",
       "    .dataframe tbody tr th {\n",
       "        vertical-align: top;\n",
       "    }\n",
       "\n",
       "    .dataframe thead th {\n",
       "        text-align: right;\n",
       "    }\n",
       "</style>\n",
       "<table border=\"1\" class=\"dataframe\">\n",
       "  <thead>\n",
       "    <tr style=\"text-align: right;\">\n",
       "      <th></th>\n",
       "      <th>Store_ID</th>\n",
       "      <th>Initial_Fee_Paid</th>\n",
       "      <th>Initial_Fee_Remaining</th>\n",
       "    </tr>\n",
       "  </thead>\n",
       "  <tbody>\n",
       "    <tr>\n",
       "      <th>0</th>\n",
       "      <td>STORE_0</td>\n",
       "      <td>29850</td>\n",
       "      <td>10000</td>\n",
       "    </tr>\n",
       "  </tbody>\n",
       "</table>\n",
       "</div>"
      ],
      "text/plain": [
       "  Store_ID  Initial_Fee_Paid  Initial_Fee_Remaining\n",
       "0  STORE_0             29850                  10000"
      ]
     },
     "execution_count": 8,
     "metadata": {},
     "output_type": "execute_result"
    }
   ],
   "source": [
    "initialf=pay[[\"Store_ID\",\"Initial_Fee_Paid\",\"Initial_Fee_Remaining\"]]\n",
    "initialf.head(1)"
   ]
  },
  {
   "cell_type": "code",
   "execution_count": 9,
   "id": "edc6cc1e-316d-4ee8-a5cb-bae0706af48d",
   "metadata": {},
   "outputs": [
    {
     "name": "stderr",
     "output_type": "stream",
     "text": [
      "C:\\Users\\silve\\AppData\\Local\\Temp\\ipykernel_7296\\1612852311.py:2: SettingWithCopyWarning: \n",
      "A value is trying to be set on a copy of a slice from a DataFrame.\n",
      "Try using .loc[row_indexer,col_indexer] = value instead\n",
      "\n",
      "See the caveats in the documentation: https://pandas.pydata.org/pandas-docs/stable/user_guide/indexing.html#returning-a-view-versus-a-copy\n",
      "  royalty[\"dif\"]=royalty[\"Royalty_Paid_Expected\"]-royalty[\"Royalty_Paid_Actual\"]\n"
     ]
    },
    {
     "data": {
      "text/html": [
       "<div>\n",
       "<style scoped>\n",
       "    .dataframe tbody tr th:only-of-type {\n",
       "        vertical-align: middle;\n",
       "    }\n",
       "\n",
       "    .dataframe tbody tr th {\n",
       "        vertical-align: top;\n",
       "    }\n",
       "\n",
       "    .dataframe thead th {\n",
       "        text-align: right;\n",
       "    }\n",
       "</style>\n",
       "<table border=\"1\" class=\"dataframe\">\n",
       "  <thead>\n",
       "    <tr style=\"text-align: right;\">\n",
       "      <th></th>\n",
       "      <th>Store_ID</th>\n",
       "      <th>Royalty_Paid_Expected</th>\n",
       "      <th>Royalty_Paid_Actual</th>\n",
       "      <th>dif</th>\n",
       "    </tr>\n",
       "  </thead>\n",
       "  <tbody>\n",
       "    <tr>\n",
       "      <th>0</th>\n",
       "      <td>STORE_0</td>\n",
       "      <td>19046</td>\n",
       "      <td>750</td>\n",
       "      <td>18296</td>\n",
       "    </tr>\n",
       "  </tbody>\n",
       "</table>\n",
       "</div>"
      ],
      "text/plain": [
       "  Store_ID  Royalty_Paid_Expected  Royalty_Paid_Actual    dif\n",
       "0  STORE_0                  19046                  750  18296"
      ]
     },
     "execution_count": 9,
     "metadata": {},
     "output_type": "execute_result"
    }
   ],
   "source": [
    "royalty=pay[[\"Store_ID\",\"Royalty_Paid_Expected\",\"Royalty_Paid_Actual\"]]\n",
    "royalty[\"dif\"]=royalty[\"Royalty_Paid_Expected\"]-royalty[\"Royalty_Paid_Actual\"]\n",
    "royalty.head(1)"
   ]
  },
  {
   "cell_type": "code",
   "execution_count": 10,
   "id": "9ed2456d-6312-4e00-9338-65f1b5736abb",
   "metadata": {},
   "outputs": [
    {
     "data": {
      "text/html": [
       "<div>\n",
       "<style scoped>\n",
       "    .dataframe tbody tr th:only-of-type {\n",
       "        vertical-align: middle;\n",
       "    }\n",
       "\n",
       "    .dataframe tbody tr th {\n",
       "        vertical-align: top;\n",
       "    }\n",
       "\n",
       "    .dataframe thead th {\n",
       "        text-align: right;\n",
       "    }\n",
       "</style>\n",
       "<table border=\"1\" class=\"dataframe\">\n",
       "  <thead>\n",
       "    <tr style=\"text-align: right;\">\n",
       "      <th></th>\n",
       "      <th>Store_ID</th>\n",
       "      <th>Royalty_Paid_Expected</th>\n",
       "      <th>Royalty_Paid_Actual</th>\n",
       "      <th>dif</th>\n",
       "    </tr>\n",
       "  </thead>\n",
       "  <tbody>\n",
       "    <tr>\n",
       "      <th>250</th>\n",
       "      <td>STORE_250</td>\n",
       "      <td>19909</td>\n",
       "      <td>1000</td>\n",
       "      <td>18909</td>\n",
       "    </tr>\n",
       "  </tbody>\n",
       "</table>\n",
       "</div>"
      ],
      "text/plain": [
       "      Store_ID  Royalty_Paid_Expected  Royalty_Paid_Actual    dif\n",
       "250  STORE_250                  19909                 1000  18909"
      ]
     },
     "execution_count": 10,
     "metadata": {},
     "output_type": "execute_result"
    }
   ],
   "source": [
    "royalty=royalty.sort_values(by=\"dif\", ascending=False)\n",
    "royalty=royalty.head(10)\n",
    "royalty.head(1)"
   ]
  },
  {
   "cell_type": "code",
   "execution_count": null,
   "id": "687f563e-05cd-47b1-8383-961c20a6d54a",
   "metadata": {},
   "outputs": [],
   "source": []
  },
  {
   "cell_type": "code",
   "execution_count": null,
   "id": "fee25386-7119-489c-ae84-bff6dbe438b3",
   "metadata": {},
   "outputs": [],
   "source": [
    "# Dashboard for visualization "
   ]
  },
  {
   "cell_type": "code",
   "execution_count": 11,
   "id": "b397b1da-6bb9-4e91-aaef-8f1723e3a5e6",
   "metadata": {},
   "outputs": [],
   "source": [
    "import dash\n",
    "from jupyter_dash import JupyterDash\n",
    "from dash import dcc,html\n",
    "from dash.dependencies import Input,Output\n",
    "import plotly.express as px "
   ]
  },
  {
   "cell_type": "code",
   "execution_count": 16,
   "id": "60b2e594-03bb-47b3-9da3-0feba23fa9c6",
   "metadata": {},
   "outputs": [],
   "source": [
    "app=dash.Dash(__name__)\n",
    "app.title=\"Payments\""
   ]
  },
  {
   "cell_type": "code",
   "execution_count": 17,
   "id": "9caffc35-5f55-4ad8-b999-abc0c4a3c251",
   "metadata": {},
   "outputs": [],
   "source": [
    "app.layout=html.Div([\n",
    "    html.H1(\"Payments\"),\n",
    "\n",
    "    html.Label(\"Choose a column for Visualization\"),\n",
    "\n",
    "    dcc.Dropdown(\n",
    "        id=\"column-dropdown\",\n",
    "        options=[\n",
    "                 {\"label\":\"Histogram of missed payments\",\"value\":1},\n",
    "                 {\"label\":\"Potential Audit Stores\",\"value\":2}\n",
    "                ],\n",
    "        value=1\n",
    "    ),\n",
    "    dcc.Graph(id=\"eda-graph\")\n",
    "])"
   ]
  },
  {
   "cell_type": "code",
   "execution_count": 18,
   "id": "80cf73be-803b-4ef9-a31c-f280fd0defa3",
   "metadata": {},
   "outputs": [
    {
     "data": {
      "text/html": [
       "\n",
       "        <iframe\n",
       "            width=\"100%\"\n",
       "            height=\"650\"\n",
       "            src=\"http://127.0.0.1:8054/\"\n",
       "            frameborder=\"0\"\n",
       "            allowfullscreen\n",
       "            \n",
       "        ></iframe>\n",
       "        "
      ],
      "text/plain": [
       "<IPython.lib.display.IFrame at 0x2b496a68c20>"
      ]
     },
     "metadata": {},
     "output_type": "display_data"
    }
   ],
   "source": [
    "@app.callback(\n",
    "    Output(\"eda-graph\",\"figure\"),\n",
    "    Input(\"column-dropdown\",\"value\")\n",
    ")\n",
    "\n",
    "def update_figure(selected_column):\n",
    "    if selected_column==1:\n",
    "        fig=px.histogram(ytd,x=\"Missed_Payments_YTD\")\n",
    "    elif selected_column==2:\n",
    "        fig=px.bar(royalty, x=\"Store_ID\",y=\"dif\")\n",
    "    else:\n",
    "        fig=px.scatter(royalty, x=\"Store_ID\",y=\"dif\")\n",
    "    return fig\n",
    "\n",
    "\n",
    "app.run_server(port=8054,mode=\"external\")"
   ]
  },
  {
   "cell_type": "code",
   "execution_count": null,
   "id": "244dd7ab-8369-4992-be03-e357e5a432b1",
   "metadata": {},
   "outputs": [],
   "source": []
  }
 ],
 "metadata": {
  "kernelspec": {
   "display_name": "Python 3 (ipykernel)",
   "language": "python",
   "name": "python3"
  },
  "language_info": {
   "codemirror_mode": {
    "name": "ipython",
    "version": 3
   },
   "file_extension": ".py",
   "mimetype": "text/x-python",
   "name": "python",
   "nbconvert_exporter": "python",
   "pygments_lexer": "ipython3",
   "version": "3.12.7"
  }
 },
 "nbformat": 4,
 "nbformat_minor": 5
}
