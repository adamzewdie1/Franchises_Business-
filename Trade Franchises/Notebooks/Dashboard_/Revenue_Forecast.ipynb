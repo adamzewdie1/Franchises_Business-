{
 "cells": [
  {
   "cell_type": "code",
   "execution_count": 71,
   "id": "f4fd739a-be1c-43f4-b087-ca790df50b84",
   "metadata": {},
   "outputs": [
    {
     "name": "stdout",
     "output_type": "stream",
     "text": [
      "Collecting prophet\n",
      "  Downloading prophet-1.1.7-py3-none-win_amd64.whl.metadata (3.6 kB)\n",
      "Collecting cmdstanpy>=1.0.4 (from prophet)\n",
      "  Downloading cmdstanpy-1.2.5-py3-none-any.whl.metadata (4.0 kB)\n",
      "Requirement already satisfied: numpy>=1.15.4 in c:\\users\\silve\\documents\\data_science\\lib\\site-packages (from prophet) (1.26.4)\n",
      "Requirement already satisfied: matplotlib>=2.0.0 in c:\\users\\silve\\documents\\data_science\\lib\\site-packages (from prophet) (3.9.2)\n",
      "Requirement already satisfied: pandas>=1.0.4 in c:\\users\\silve\\documents\\data_science\\lib\\site-packages (from prophet) (2.2.2)\n",
      "Collecting holidays<1,>=0.25 (from prophet)\n",
      "  Downloading holidays-0.78-py3-none-any.whl.metadata (46 kB)\n",
      "Requirement already satisfied: tqdm>=4.36.1 in c:\\users\\silve\\documents\\data_science\\lib\\site-packages (from prophet) (4.66.5)\n",
      "Collecting importlib_resources (from prophet)\n",
      "  Downloading importlib_resources-6.5.2-py3-none-any.whl.metadata (3.9 kB)\n",
      "Collecting stanio<2.0.0,>=0.4.0 (from cmdstanpy>=1.0.4->prophet)\n",
      "  Downloading stanio-0.5.1-py3-none-any.whl.metadata (1.6 kB)\n",
      "Requirement already satisfied: python-dateutil in c:\\users\\silve\\documents\\data_science\\lib\\site-packages (from holidays<1,>=0.25->prophet) (2.9.0.post0)\n",
      "Requirement already satisfied: contourpy>=1.0.1 in c:\\users\\silve\\documents\\data_science\\lib\\site-packages (from matplotlib>=2.0.0->prophet) (1.2.0)\n",
      "Requirement already satisfied: cycler>=0.10 in c:\\users\\silve\\documents\\data_science\\lib\\site-packages (from matplotlib>=2.0.0->prophet) (0.11.0)\n",
      "Requirement already satisfied: fonttools>=4.22.0 in c:\\users\\silve\\documents\\data_science\\lib\\site-packages (from matplotlib>=2.0.0->prophet) (4.51.0)\n",
      "Requirement already satisfied: kiwisolver>=1.3.1 in c:\\users\\silve\\documents\\data_science\\lib\\site-packages (from matplotlib>=2.0.0->prophet) (1.4.4)\n",
      "Requirement already satisfied: packaging>=20.0 in c:\\users\\silve\\documents\\data_science\\lib\\site-packages (from matplotlib>=2.0.0->prophet) (24.1)\n",
      "Requirement already satisfied: pillow>=8 in c:\\users\\silve\\documents\\data_science\\lib\\site-packages (from matplotlib>=2.0.0->prophet) (10.4.0)\n",
      "Requirement already satisfied: pyparsing>=2.3.1 in c:\\users\\silve\\documents\\data_science\\lib\\site-packages (from matplotlib>=2.0.0->prophet) (3.1.2)\n",
      "Requirement already satisfied: pytz>=2020.1 in c:\\users\\silve\\documents\\data_science\\lib\\site-packages (from pandas>=1.0.4->prophet) (2024.1)\n",
      "Requirement already satisfied: tzdata>=2022.7 in c:\\users\\silve\\documents\\data_science\\lib\\site-packages (from pandas>=1.0.4->prophet) (2023.3)\n",
      "Requirement already satisfied: colorama in c:\\users\\silve\\documents\\data_science\\lib\\site-packages (from tqdm>=4.36.1->prophet) (0.4.6)\n",
      "Requirement already satisfied: six>=1.5 in c:\\users\\silve\\documents\\data_science\\lib\\site-packages (from python-dateutil->holidays<1,>=0.25->prophet) (1.16.0)\n",
      "Downloading prophet-1.1.7-py3-none-win_amd64.whl (13.3 MB)\n",
      "   ---------------------------------------- 0.0/13.3 MB ? eta -:--:--\n",
      "   -------------------- ------------------- 6.8/13.3 MB 34.9 MB/s eta 0:00:01\n",
      "   ---------------------------------------  13.1/13.3 MB 34.3 MB/s eta 0:00:01\n",
      "   ---------------------------------------- 13.3/13.3 MB 26.9 MB/s eta 0:00:00\n",
      "Downloading cmdstanpy-1.2.5-py3-none-any.whl (94 kB)\n",
      "Downloading holidays-0.78-py3-none-any.whl (1.2 MB)\n",
      "   ---------------------------------------- 0.0/1.2 MB ? eta -:--:--\n",
      "   ---------------------------------------- 1.2/1.2 MB 19.9 MB/s eta 0:00:00\n",
      "Downloading importlib_resources-6.5.2-py3-none-any.whl (37 kB)\n",
      "Downloading stanio-0.5.1-py3-none-any.whl (8.1 kB)\n",
      "Installing collected packages: stanio, importlib_resources, holidays, cmdstanpy, prophet\n",
      "Successfully installed cmdstanpy-1.2.5 holidays-0.78 importlib_resources-6.5.2 prophet-1.1.7 stanio-0.5.1\n",
      "Note: you may need to restart the kernel to use updated packages.\n"
     ]
    }
   ],
   "source": [
    "%pip install prophet "
   ]
  },
  {
   "cell_type": "code",
   "execution_count": 235,
   "id": "967a19d6-e0f9-45eb-9980-c3df71a0165b",
   "metadata": {},
   "outputs": [],
   "source": [
    "from sklearn.model_selection import train_test_split\n",
    "from sklearn.linear_model import LinearRegression\n",
    "from sklearn.preprocessing import StandardScaler\n",
    "from prophet import Prophet "
   ]
  },
  {
   "cell_type": "code",
   "execution_count": 236,
   "id": "3965875d-959a-44b8-b19d-92c4a298ae64",
   "metadata": {},
   "outputs": [],
   "source": [
    "import pandas as pd\n",
    "import numpy as np\n",
    "import plotly as plt\n",
    "import joblib\n",
    "from prophet.diagnostics import cross_validation,performance_metrics"
   ]
  },
  {
   "cell_type": "code",
   "execution_count": null,
   "id": "83a215f2-636b-441b-91f9-e4260967ea8f",
   "metadata": {},
   "outputs": [],
   "source": [
    "#get the data ready"
   ]
  },
  {
   "cell_type": "code",
   "execution_count": 237,
   "id": "bf80ea42-720e-423d-bad0-2317d35e396c",
   "metadata": {},
   "outputs": [
    {
     "data": {
      "text/html": [
       "<div>\n",
       "<style scoped>\n",
       "    .dataframe tbody tr th:only-of-type {\n",
       "        vertical-align: middle;\n",
       "    }\n",
       "\n",
       "    .dataframe tbody tr th {\n",
       "        vertical-align: top;\n",
       "    }\n",
       "\n",
       "    .dataframe thead th {\n",
       "        text-align: right;\n",
       "    }\n",
       "</style>\n",
       "<table border=\"1\" class=\"dataframe\">\n",
       "  <thead>\n",
       "    <tr style=\"text-align: right;\">\n",
       "      <th></th>\n",
       "      <th>date</th>\n",
       "      <th>store_id</th>\n",
       "      <th>customer_id</th>\n",
       "      <th>revenue</th>\n",
       "    </tr>\n",
       "  </thead>\n",
       "  <tbody>\n",
       "    <tr>\n",
       "      <th>0</th>\n",
       "      <td>2023-01-01</td>\n",
       "      <td>7</td>\n",
       "      <td>1</td>\n",
       "      <td>4313.56</td>\n",
       "    </tr>\n",
       "  </tbody>\n",
       "</table>\n",
       "</div>"
      ],
      "text/plain": [
       "         date  store_id  customer_id  revenue\n",
       "0  2023-01-01         7            1  4313.56"
      ]
     },
     "execution_count": 237,
     "metadata": {},
     "output_type": "execute_result"
    }
   ],
   "source": [
    "rev=pd.read_csv(r\"C:\\Users\\silve\\Desktop\\Data Science\\Projects\\Trade Franchises\\Meta Data\\Raw data\\biweekly_revenue_data.csv\")\n",
    "rev.head(1)"
   ]
  },
  {
   "cell_type": "code",
   "execution_count": 238,
   "id": "2f7272c8-5775-47f2-9050-8d56feec14f9",
   "metadata": {},
   "outputs": [],
   "source": [
    "rev.fillna(0,inplace=True)\n"
   ]
  },
  {
   "cell_type": "code",
   "execution_count": 40,
   "id": "9267c4fb-0729-40b2-968d-eac11ac81135",
   "metadata": {},
   "outputs": [
    {
     "data": {
      "text/plain": [
       "778.6891666666667"
      ]
     },
     "execution_count": 40,
     "metadata": {},
     "output_type": "execute_result"
    }
   ],
   "source": [
    "ave=st[\"revenue\"].mean()\n",
    "ave"
   ]
  },
  {
   "cell_type": "code",
   "execution_count": 240,
   "id": "eee06a97-9f86-47a2-ab01-40225064ae00",
   "metadata": {},
   "outputs": [],
   "source": [
    "\n",
    "st[\"revenue\"]=st[\"revenue\"].replace(0,ave)"
   ]
  },
  {
   "cell_type": "code",
   "execution_count": 241,
   "id": "6a663421-36f8-4efe-8997-f2b70759b45a",
   "metadata": {},
   "outputs": [],
   "source": [
    "rev=rev.drop(rev[rev[\"store_id\"].isin([1,2,3,4,5,6,7,8,9])].index) # removing most of the stores for testing purpose "
   ]
  },
  {
   "cell_type": "code",
   "execution_count": 242,
   "id": "103a4d6f-8a84-490b-8a86-b6a403897d27",
   "metadata": {},
   "outputs": [],
   "source": [
    "rev=rev.drop(columns=\"store_id\", axis=1)"
   ]
  },
  {
   "cell_type": "code",
   "execution_count": 244,
   "id": "eb661772-e169-4bb9-ad35-daefe8fbd70b",
   "metadata": {},
   "outputs": [],
   "source": [
    "rev.rename(columns={\"customer_id\":\"Store_id\"}, inplace=True)"
   ]
  },
  {
   "cell_type": "code",
   "execution_count": null,
   "id": "df9936a9-cae4-4f64-941c-f992107e1347",
   "metadata": {},
   "outputs": [],
   "source": []
  },
  {
   "cell_type": "code",
   "execution_count": null,
   "id": "1545e270-0397-4426-951f-c7f78416ade4",
   "metadata": {},
   "outputs": [],
   "source": [
    "#use the model "
   ]
  },
  {
   "cell_type": "code",
   "execution_count": 245,
   "id": "8295c0a1-3e6a-4e56-9604-c1bc64989823",
   "metadata": {},
   "outputs": [],
   "source": [
    "sa=Prophet(changepoint_prior_scale=0.5)"
   ]
  },
  {
   "cell_type": "code",
   "execution_count": 246,
   "id": "97b18142-a9f3-42a8-b363-07850ce97ddd",
   "metadata": {},
   "outputs": [],
   "source": [
    "temp=st\n",
    "temp=temp[[\"date\",\"revenue\"]]\n",
    "temp=temp.rename(columns={\"date\":\"ds\",\"revenue\":\"y\"})"
   ]
  },
  {
   "cell_type": "code",
   "execution_count": 247,
   "id": "db82daaa-fa2d-4ab2-9507-4d0d3c64b98f",
   "metadata": {},
   "outputs": [
    {
     "data": {
      "text/plain": [
       "<prophet.forecaster.Prophet at 0x23711e6bef0>"
      ]
     },
     "execution_count": 247,
     "metadata": {},
     "output_type": "execute_result"
    }
   ],
   "source": [
    "sa.add_seasonality(name=\"biweekly\", period=28, fourier_order=3)"
   ]
  },
  {
   "cell_type": "code",
   "execution_count": 248,
   "id": "2f87e2d4-55af-4c1b-b688-81f2122686ab",
   "metadata": {},
   "outputs": [
    {
     "name": "stderr",
     "output_type": "stream",
     "text": [
      "23:27:06 - cmdstanpy - INFO - Chain [1] start processing\n",
      "23:27:07 - cmdstanpy - INFO - Chain [1] done processing\n"
     ]
    },
    {
     "data": {
      "text/plain": [
       "<prophet.forecaster.Prophet at 0x23711e6bef0>"
      ]
     },
     "execution_count": 248,
     "metadata": {},
     "output_type": "execute_result"
    }
   ],
   "source": [
    "sa.fit(temp)"
   ]
  },
  {
   "cell_type": "code",
   "execution_count": null,
   "id": "8a74c202-4b06-4ce7-863f-030e7268e656",
   "metadata": {},
   "outputs": [],
   "source": [
    "# predicting the next biweekly revenue"
   ]
  },
  {
   "cell_type": "code",
   "execution_count": 249,
   "id": "ea8ab47d-1edc-40e3-b1ff-dee1617b487b",
   "metadata": {},
   "outputs": [],
   "source": [
    "future=sa.make_future_dataframe(periods=1, freq='14D')\n"
   ]
  },
  {
   "cell_type": "code",
   "execution_count": 251,
   "id": "09bbc392-6812-41ea-91c6-4d82ea73c1d1",
   "metadata": {},
   "outputs": [
    {
     "data": {
      "text/html": [
       "<div>\n",
       "<style scoped>\n",
       "    .dataframe tbody tr th:only-of-type {\n",
       "        vertical-align: middle;\n",
       "    }\n",
       "\n",
       "    .dataframe tbody tr th {\n",
       "        vertical-align: top;\n",
       "    }\n",
       "\n",
       "    .dataframe thead th {\n",
       "        text-align: right;\n",
       "    }\n",
       "</style>\n",
       "<table border=\"1\" class=\"dataframe\">\n",
       "  <thead>\n",
       "    <tr style=\"text-align: right;\">\n",
       "      <th></th>\n",
       "      <th>ds</th>\n",
       "      <th>trend</th>\n",
       "      <th>yhat_lower</th>\n",
       "      <th>yhat_upper</th>\n",
       "      <th>trend_lower</th>\n",
       "      <th>trend_upper</th>\n",
       "      <th>additive_terms</th>\n",
       "      <th>additive_terms_lower</th>\n",
       "      <th>additive_terms_upper</th>\n",
       "      <th>biweekly</th>\n",
       "      <th>biweekly_lower</th>\n",
       "      <th>biweekly_upper</th>\n",
       "      <th>multiplicative_terms</th>\n",
       "      <th>multiplicative_terms_lower</th>\n",
       "      <th>multiplicative_terms_upper</th>\n",
       "      <th>yhat</th>\n",
       "    </tr>\n",
       "  </thead>\n",
       "  <tbody>\n",
       "    <tr>\n",
       "      <th>24</th>\n",
       "      <td>2023-12-03</td>\n",
       "      <td>60.860638</td>\n",
       "      <td>706.315328</td>\n",
       "      <td>801.656327</td>\n",
       "      <td>56.890968</td>\n",
       "      <td>64.827302</td>\n",
       "      <td>692.376115</td>\n",
       "      <td>692.376115</td>\n",
       "      <td>692.376115</td>\n",
       "      <td>692.376115</td>\n",
       "      <td>692.376115</td>\n",
       "      <td>692.376115</td>\n",
       "      <td>0.0</td>\n",
       "      <td>0.0</td>\n",
       "      <td>0.0</td>\n",
       "      <td>753.236753</td>\n",
       "    </tr>\n",
       "  </tbody>\n",
       "</table>\n",
       "</div>"
      ],
      "text/plain": [
       "           ds      trend  yhat_lower  yhat_upper  trend_lower  trend_upper  \\\n",
       "24 2023-12-03  60.860638  706.315328  801.656327    56.890968    64.827302   \n",
       "\n",
       "    additive_terms  additive_terms_lower  additive_terms_upper    biweekly  \\\n",
       "24      692.376115            692.376115            692.376115  692.376115   \n",
       "\n",
       "    biweekly_lower  biweekly_upper  multiplicative_terms  \\\n",
       "24      692.376115      692.376115                   0.0   \n",
       "\n",
       "    multiplicative_terms_lower  multiplicative_terms_upper        yhat  \n",
       "24                         0.0                         0.0  753.236753  "
      ]
     },
     "execution_count": 251,
     "metadata": {},
     "output_type": "execute_result"
    }
   ],
   "source": [
    "forcast=sa.predict(future)\n",
    "forcast.tail(1)\n"
   ]
  },
  {
   "cell_type": "code",
   "execution_count": null,
   "id": "9d5d0bf4-e838-4486-a6ec-f492e873910c",
   "metadata": {},
   "outputs": [],
   "source": []
  },
  {
   "cell_type": "code",
   "execution_count": null,
   "id": "0aa7640f-30c1-494c-a9ff-8f52c607ab5c",
   "metadata": {},
   "outputs": [],
   "source": []
  },
  {
   "cell_type": "code",
   "execution_count": 126,
   "id": "fa89f5c2-912a-4c5b-ae91-5b2c84010914",
   "metadata": {},
   "outputs": [
    {
     "data": {
      "application/vnd.jupyter.widget-view+json": {
       "model_id": "b4bdb8ce385f49f1800c86c93204bdcb",
       "version_major": 2,
       "version_minor": 0
      },
      "text/plain": [
       "  0%|          | 0/1 [00:00<?, ?it/s]"
      ]
     },
     "metadata": {},
     "output_type": "display_data"
    },
    {
     "name": "stderr",
     "output_type": "stream",
     "text": [
      "21:06:55 - cmdstanpy - INFO - Chain [1] start processing\n",
      "21:06:55 - cmdstanpy - INFO - Chain [1] done processing\n"
     ]
    }
   ],
   "source": [
    "df_cv=cross_validation(sa, initial='280 days', period='14 days', horizon='42 days') # 280 days from jan-nov. 3 period 14*3 "
   ]
  },
  {
   "cell_type": "code",
   "execution_count": 127,
   "id": "4e3aa0c0-eec6-46df-8f0e-a9213863579b",
   "metadata": {},
   "outputs": [],
   "source": [
    "df_p=performance_metrics(df_cv)"
   ]
  },
  {
   "cell_type": "code",
   "execution_count": 128,
   "id": "3edfc0fe-c11b-4288-8ce1-730421cf5b7c",
   "metadata": {},
   "outputs": [
    {
     "name": "stdout",
     "output_type": "stream",
     "text": [
      "  horizon          mse       rmse        mae      mape     mdape     smape  \\\n",
      "0 14 days  3862.818384  62.151576  62.151576  0.076280  0.076280  0.079305   \n",
      "1 28 days   696.199280  26.385588  26.385588  0.035220  0.035220  0.034610   \n",
      "2 42 days  1066.817290  32.662169  32.662169  0.045965  0.045965  0.044932   \n",
      "\n",
      "   coverage  \n",
      "0       1.0  \n",
      "1       1.0  \n",
      "2       1.0  \n"
     ]
    }
   ],
   "source": [
    "print(df_p.head())"
   ]
  },
  {
   "cell_type": "code",
   "execution_count": null,
   "id": "0c7d6c66-0849-47c7-bc34-f7f628e65f4c",
   "metadata": {},
   "outputs": [],
   "source": []
  },
  {
   "cell_type": "code",
   "execution_count": null,
   "id": "99fd5332-69cc-441e-b00b-07094a5ac768",
   "metadata": {},
   "outputs": [],
   "source": []
  },
  {
   "cell_type": "code",
   "execution_count": null,
   "id": "e41a2d38-9636-42da-a274-3dfce2694c38",
   "metadata": {},
   "outputs": [],
   "source": []
  },
  {
   "cell_type": "code",
   "execution_count": null,
   "id": "f72578d5-c965-4a5a-9338-08ad594ce5e2",
   "metadata": {},
   "outputs": [],
   "source": [
    "# save the model in folder"
   ]
  },
  {
   "cell_type": "code",
   "execution_count": 129,
   "id": "3bddb11e-29ec-4330-842c-a6b3bfd38766",
   "metadata": {},
   "outputs": [
    {
     "data": {
      "text/plain": [
       "['C:\\\\Users\\\\silve\\\\Desktop\\\\Data Science\\\\Projects\\\\Trade Franchises\\\\Notebooks\\\\Models\\\\prophet_model.pkl']"
      ]
     },
     "execution_count": 129,
     "metadata": {},
     "output_type": "execute_result"
    }
   ],
   "source": [
    "joblib.dump(sa,r\"C:\\Users\\silve\\Desktop\\Data Science\\Projects\\Trade Franchises\\Notebooks\\Models\\prophet_model.pkl\")"
   ]
  },
  {
   "cell_type": "code",
   "execution_count": null,
   "id": "af3281b3-1679-448a-8882-e366b944df7e",
   "metadata": {},
   "outputs": [],
   "source": [
    "# test the saved model"
   ]
  },
  {
   "cell_type": "code",
   "execution_count": 130,
   "id": "c3beaa6b-f7e2-42d3-a272-c9daf12e2e38",
   "metadata": {},
   "outputs": [],
   "source": [
    "load=joblib.load(r\"C:\\Users\\silve\\Desktop\\Data Science\\Projects\\Trade Franchises\\Notebooks\\Models\\prophet_model.pkl\")"
   ]
  },
  {
   "cell_type": "code",
   "execution_count": 252,
   "id": "a6766d50-e63d-4b71-84e2-a849ab226e51",
   "metadata": {},
   "outputs": [],
   "source": [
    "futures_dates=load.make_future_dataframe(periods=1, freq='14 d') # createing new dates that will get predicted. "
   ]
  },
  {
   "cell_type": "code",
   "execution_count": 253,
   "id": "43c9c5d2-6471-4d5b-b163-2f71d4e46e90",
   "metadata": {},
   "outputs": [],
   "source": [
    "futures_number=load.predict(futures_dates)"
   ]
  },
  {
   "cell_type": "code",
   "execution_count": 254,
   "id": "a74eb254-4f28-4b87-a121-3d7884d11fd0",
   "metadata": {},
   "outputs": [
    {
     "data": {
      "text/html": [
       "<div>\n",
       "<style scoped>\n",
       "    .dataframe tbody tr th:only-of-type {\n",
       "        vertical-align: middle;\n",
       "    }\n",
       "\n",
       "    .dataframe tbody tr th {\n",
       "        vertical-align: top;\n",
       "    }\n",
       "\n",
       "    .dataframe thead th {\n",
       "        text-align: right;\n",
       "    }\n",
       "</style>\n",
       "<table border=\"1\" class=\"dataframe\">\n",
       "  <thead>\n",
       "    <tr style=\"text-align: right;\">\n",
       "      <th></th>\n",
       "      <th>ds</th>\n",
       "      <th>trend</th>\n",
       "      <th>yhat_lower</th>\n",
       "      <th>yhat_upper</th>\n",
       "      <th>trend_lower</th>\n",
       "      <th>trend_upper</th>\n",
       "      <th>additive_terms</th>\n",
       "      <th>additive_terms_lower</th>\n",
       "      <th>additive_terms_upper</th>\n",
       "      <th>biweekly</th>\n",
       "      <th>biweekly_lower</th>\n",
       "      <th>biweekly_upper</th>\n",
       "      <th>multiplicative_terms</th>\n",
       "      <th>multiplicative_terms_lower</th>\n",
       "      <th>multiplicative_terms_upper</th>\n",
       "      <th>yhat</th>\n",
       "    </tr>\n",
       "  </thead>\n",
       "  <tbody>\n",
       "    <tr>\n",
       "      <th>24</th>\n",
       "      <td>2023-12-03</td>\n",
       "      <td>56.291768</td>\n",
       "      <td>696.049043</td>\n",
       "      <td>824.339</td>\n",
       "      <td>56.291683</td>\n",
       "      <td>56.291838</td>\n",
       "      <td>706.301238</td>\n",
       "      <td>706.301238</td>\n",
       "      <td>706.301238</td>\n",
       "      <td>706.301238</td>\n",
       "      <td>706.301238</td>\n",
       "      <td>706.301238</td>\n",
       "      <td>0.0</td>\n",
       "      <td>0.0</td>\n",
       "      <td>0.0</td>\n",
       "      <td>762.593006</td>\n",
       "    </tr>\n",
       "  </tbody>\n",
       "</table>\n",
       "</div>"
      ],
      "text/plain": [
       "           ds      trend  yhat_lower  yhat_upper  trend_lower  trend_upper  \\\n",
       "24 2023-12-03  56.291768  696.049043     824.339    56.291683    56.291838   \n",
       "\n",
       "    additive_terms  additive_terms_lower  additive_terms_upper    biweekly  \\\n",
       "24      706.301238            706.301238            706.301238  706.301238   \n",
       "\n",
       "    biweekly_lower  biweekly_upper  multiplicative_terms  \\\n",
       "24      706.301238      706.301238                   0.0   \n",
       "\n",
       "    multiplicative_terms_lower  multiplicative_terms_upper        yhat  \n",
       "24                         0.0                         0.0  762.593006  "
      ]
     },
     "execution_count": 254,
     "metadata": {},
     "output_type": "execute_result"
    }
   ],
   "source": [
    "futures_number.tail(1)"
   ]
  },
  {
   "cell_type": "code",
   "execution_count": null,
   "id": "5f140735-e1f1-4d5f-adab-74b36d89be54",
   "metadata": {},
   "outputs": [],
   "source": []
  },
  {
   "cell_type": "code",
   "execution_count": null,
   "id": "d2717691-e2a1-47cc-ba51-4736eae54f22",
   "metadata": {},
   "outputs": [],
   "source": []
  },
  {
   "cell_type": "code",
   "execution_count": null,
   "id": "073f9d97-7d5c-41f4-961a-22b152060855",
   "metadata": {},
   "outputs": [],
   "source": []
  },
  {
   "cell_type": "code",
   "execution_count": null,
   "id": "715a0826-afdc-4f77-9412-94674fe5011b",
   "metadata": {},
   "outputs": [],
   "source": []
  },
  {
   "cell_type": "code",
   "execution_count": null,
   "id": "11564153-c07f-4277-b4ce-d8bb447f603c",
   "metadata": {},
   "outputs": [],
   "source": []
  },
  {
   "cell_type": "code",
   "execution_count": null,
   "id": "98839f2d-1293-4408-a3dd-62d574a43063",
   "metadata": {},
   "outputs": [],
   "source": [
    "#saving the next week prediction to excel  "
   ]
  },
  {
   "cell_type": "code",
   "execution_count": 234,
   "id": "8ec9d475-3651-4553-a73e-9ac7f80805fe",
   "metadata": {},
   "outputs": [],
   "source": [
    "forcast.to_excel(r\"C:\\Users\\silve\\Desktop\\Data Science\\Projects\\Trade Franchises\\Notebooks\\Models\\next_rev_pred.xlsx\", index=False)"
   ]
  },
  {
   "cell_type": "code",
   "execution_count": null,
   "id": "77bbef68-0d6c-4805-b74e-c138d0a9bc64",
   "metadata": {},
   "outputs": [],
   "source": []
  },
  {
   "cell_type": "code",
   "execution_count": null,
   "id": "34758d3b-bb6d-41af-aa17-2e1c3d50ec4a",
   "metadata": {},
   "outputs": [],
   "source": []
  }
 ],
 "metadata": {
  "kernelspec": {
   "display_name": "Python 3 (ipykernel)",
   "language": "python",
   "name": "python3"
  },
  "language_info": {
   "codemirror_mode": {
    "name": "ipython",
    "version": 3
   },
   "file_extension": ".py",
   "mimetype": "text/x-python",
   "name": "python",
   "nbconvert_exporter": "python",
   "pygments_lexer": "ipython3",
   "version": "3.12.7"
  }
 },
 "nbformat": 4,
 "nbformat_minor": 5
}
