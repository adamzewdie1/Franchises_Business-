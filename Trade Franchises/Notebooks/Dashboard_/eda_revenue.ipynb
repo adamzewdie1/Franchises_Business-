{
 "cells": [
  {
   "cell_type": "code",
   "execution_count": 1,
   "id": "ac31146d-ccf1-4bb6-b1b2-fad50d76e542",
   "metadata": {},
   "outputs": [
    {
     "name": "stdout",
     "output_type": "stream",
     "text": [
      "Requirement already satisfied: pandas in c:\\users\\silve\\documents\\data_science\\lib\\site-packages (2.2.2)\n",
      "Requirement already satisfied: numpy>=1.26.0 in c:\\users\\silve\\documents\\data_science\\lib\\site-packages (from pandas) (1.26.4)\n",
      "Requirement already satisfied: python-dateutil>=2.8.2 in c:\\users\\silve\\documents\\data_science\\lib\\site-packages (from pandas) (2.9.0.post0)\n",
      "Requirement already satisfied: pytz>=2020.1 in c:\\users\\silve\\documents\\data_science\\lib\\site-packages (from pandas) (2024.1)\n",
      "Requirement already satisfied: tzdata>=2022.7 in c:\\users\\silve\\documents\\data_science\\lib\\site-packages (from pandas) (2023.3)\n",
      "Requirement already satisfied: six>=1.5 in c:\\users\\silve\\documents\\data_science\\lib\\site-packages (from python-dateutil>=2.8.2->pandas) (1.16.0)\n",
      "Note: you may need to restart the kernel to use updated packages.\n",
      "Requirement already satisfied: numpy in c:\\users\\silve\\documents\\data_science\\lib\\site-packages (1.26.4)\n",
      "Note: you may need to restart the kernel to use updated packages.\n",
      "Requirement already satisfied: faker in c:\\users\\silve\\documents\\data_science\\lib\\site-packages (37.5.3)\n",
      "Requirement already satisfied: tzdata in c:\\users\\silve\\documents\\data_science\\lib\\site-packages (from faker) (2023.3)\n",
      "Note: you may need to restart the kernel to use updated packages.\n",
      "Requirement already satisfied: dash==2.14.2 in c:\\users\\silve\\documents\\data_science\\lib\\site-packages (2.14.2)\n",
      "Requirement already satisfied: jupyter-dash==0.4.2 in c:\\users\\silve\\documents\\data_science\\lib\\site-packages (0.4.2)\n",
      "Requirement already satisfied: Flask<3.1,>=1.0.4 in c:\\users\\silve\\documents\\data_science\\lib\\site-packages (from dash==2.14.2) (3.0.3)\n",
      "Requirement already satisfied: Werkzeug<3.1 in c:\\users\\silve\\documents\\data_science\\lib\\site-packages (from dash==2.14.2) (3.0.3)\n",
      "Requirement already satisfied: plotly>=5.0.0 in c:\\users\\silve\\documents\\data_science\\lib\\site-packages (from dash==2.14.2) (6.1.2)\n",
      "Requirement already satisfied: dash-html-components==2.0.0 in c:\\users\\silve\\documents\\data_science\\lib\\site-packages (from dash==2.14.2) (2.0.0)\n",
      "Requirement already satisfied: dash-core-components==2.0.0 in c:\\users\\silve\\documents\\data_science\\lib\\site-packages (from dash==2.14.2) (2.0.0)\n",
      "Requirement already satisfied: dash-table==5.0.0 in c:\\users\\silve\\documents\\data_science\\lib\\site-packages (from dash==2.14.2) (5.0.0)\n",
      "Requirement already satisfied: typing-extensions>=4.1.1 in c:\\users\\silve\\documents\\data_science\\lib\\site-packages (from dash==2.14.2) (4.11.0)\n",
      "Requirement already satisfied: requests in c:\\users\\silve\\documents\\data_science\\lib\\site-packages (from dash==2.14.2) (2.32.3)\n",
      "Requirement already satisfied: retrying in c:\\users\\silve\\documents\\data_science\\lib\\site-packages (from dash==2.14.2) (1.4.1)\n",
      "Requirement already satisfied: ansi2html in c:\\users\\silve\\documents\\data_science\\lib\\site-packages (from dash==2.14.2) (1.9.2)\n",
      "Requirement already satisfied: nest-asyncio in c:\\users\\silve\\documents\\data_science\\lib\\site-packages (from dash==2.14.2) (1.6.0)\n",
      "Requirement already satisfied: setuptools in c:\\users\\silve\\documents\\data_science\\lib\\site-packages (from dash==2.14.2) (75.1.0)\n",
      "Requirement already satisfied: importlib-metadata in c:\\users\\silve\\documents\\data_science\\lib\\site-packages (from dash==2.14.2) (7.0.1)\n",
      "Requirement already satisfied: ipython in c:\\users\\silve\\documents\\data_science\\lib\\site-packages (from jupyter-dash==0.4.2) (8.27.0)\n",
      "Requirement already satisfied: ipykernel in c:\\users\\silve\\documents\\data_science\\lib\\site-packages (from jupyter-dash==0.4.2) (6.28.0)\n",
      "Requirement already satisfied: Jinja2>=3.1.2 in c:\\users\\silve\\documents\\data_science\\lib\\site-packages (from Flask<3.1,>=1.0.4->dash==2.14.2) (3.1.4)\n",
      "Requirement already satisfied: itsdangerous>=2.1.2 in c:\\users\\silve\\documents\\data_science\\lib\\site-packages (from Flask<3.1,>=1.0.4->dash==2.14.2) (2.2.0)\n",
      "Requirement already satisfied: click>=8.1.3 in c:\\users\\silve\\documents\\data_science\\lib\\site-packages (from Flask<3.1,>=1.0.4->dash==2.14.2) (8.1.7)\n",
      "Requirement already satisfied: blinker>=1.6.2 in c:\\users\\silve\\documents\\data_science\\lib\\site-packages (from Flask<3.1,>=1.0.4->dash==2.14.2) (1.6.2)\n",
      "Requirement already satisfied: narwhals>=1.15.1 in c:\\users\\silve\\documents\\data_science\\lib\\site-packages (from plotly>=5.0.0->dash==2.14.2) (1.41.0)\n",
      "Requirement already satisfied: packaging in c:\\users\\silve\\documents\\data_science\\lib\\site-packages (from plotly>=5.0.0->dash==2.14.2) (24.1)\n",
      "Requirement already satisfied: MarkupSafe>=2.1.1 in c:\\users\\silve\\documents\\data_science\\lib\\site-packages (from Werkzeug<3.1->dash==2.14.2) (2.1.3)\n",
      "Requirement already satisfied: zipp>=0.5 in c:\\users\\silve\\documents\\data_science\\lib\\site-packages (from importlib-metadata->dash==2.14.2) (3.17.0)\n",
      "Requirement already satisfied: comm>=0.1.1 in c:\\users\\silve\\documents\\data_science\\lib\\site-packages (from ipykernel->jupyter-dash==0.4.2) (0.2.1)\n",
      "Requirement already satisfied: debugpy>=1.6.5 in c:\\users\\silve\\documents\\data_science\\lib\\site-packages (from ipykernel->jupyter-dash==0.4.2) (1.6.7)\n",
      "Requirement already satisfied: jupyter-client>=6.1.12 in c:\\users\\silve\\documents\\data_science\\lib\\site-packages (from ipykernel->jupyter-dash==0.4.2) (8.6.0)\n",
      "Requirement already satisfied: jupyter-core!=5.0.*,>=4.12 in c:\\users\\silve\\documents\\data_science\\lib\\site-packages (from ipykernel->jupyter-dash==0.4.2) (5.7.2)\n",
      "Requirement already satisfied: matplotlib-inline>=0.1 in c:\\users\\silve\\documents\\data_science\\lib\\site-packages (from ipykernel->jupyter-dash==0.4.2) (0.1.6)\n",
      "Requirement already satisfied: psutil in c:\\users\\silve\\documents\\data_science\\lib\\site-packages (from ipykernel->jupyter-dash==0.4.2) (5.9.0)\n",
      "Requirement already satisfied: pyzmq>=24 in c:\\users\\silve\\documents\\data_science\\lib\\site-packages (from ipykernel->jupyter-dash==0.4.2) (25.1.2)\n",
      "Requirement already satisfied: tornado>=6.1 in c:\\users\\silve\\documents\\data_science\\lib\\site-packages (from ipykernel->jupyter-dash==0.4.2) (6.4.1)\n",
      "Requirement already satisfied: traitlets>=5.4.0 in c:\\users\\silve\\documents\\data_science\\lib\\site-packages (from ipykernel->jupyter-dash==0.4.2) (5.14.3)\n",
      "Requirement already satisfied: decorator in c:\\users\\silve\\documents\\data_science\\lib\\site-packages (from ipython->jupyter-dash==0.4.2) (5.1.1)\n",
      "Requirement already satisfied: jedi>=0.16 in c:\\users\\silve\\documents\\data_science\\lib\\site-packages (from ipython->jupyter-dash==0.4.2) (0.19.1)\n",
      "Requirement already satisfied: prompt-toolkit<3.1.0,>=3.0.41 in c:\\users\\silve\\documents\\data_science\\lib\\site-packages (from ipython->jupyter-dash==0.4.2) (3.0.43)\n",
      "Requirement already satisfied: pygments>=2.4.0 in c:\\users\\silve\\documents\\data_science\\lib\\site-packages (from ipython->jupyter-dash==0.4.2) (2.15.1)\n",
      "Requirement already satisfied: stack-data in c:\\users\\silve\\documents\\data_science\\lib\\site-packages (from ipython->jupyter-dash==0.4.2) (0.2.0)\n",
      "Requirement already satisfied: colorama in c:\\users\\silve\\documents\\data_science\\lib\\site-packages (from ipython->jupyter-dash==0.4.2) (0.4.6)\n",
      "Requirement already satisfied: charset-normalizer<4,>=2 in c:\\users\\silve\\documents\\data_science\\lib\\site-packages (from requests->dash==2.14.2) (3.3.2)\n",
      "Requirement already satisfied: idna<4,>=2.5 in c:\\users\\silve\\documents\\data_science\\lib\\site-packages (from requests->dash==2.14.2) (3.7)\n",
      "Requirement already satisfied: urllib3<3,>=1.21.1 in c:\\users\\silve\\documents\\data_science\\lib\\site-packages (from requests->dash==2.14.2) (2.2.3)\n",
      "Requirement already satisfied: certifi>=2017.4.17 in c:\\users\\silve\\documents\\data_science\\lib\\site-packages (from requests->dash==2.14.2) (2024.8.30)\n",
      "Requirement already satisfied: parso<0.9.0,>=0.8.3 in c:\\users\\silve\\documents\\data_science\\lib\\site-packages (from jedi>=0.16->ipython->jupyter-dash==0.4.2) (0.8.3)\n",
      "Requirement already satisfied: python-dateutil>=2.8.2 in c:\\users\\silve\\documents\\data_science\\lib\\site-packages (from jupyter-client>=6.1.12->ipykernel->jupyter-dash==0.4.2) (2.9.0.post0)\n",
      "Requirement already satisfied: platformdirs>=2.5 in c:\\users\\silve\\documents\\data_science\\lib\\site-packages (from jupyter-core!=5.0.*,>=4.12->ipykernel->jupyter-dash==0.4.2) (3.10.0)\n",
      "Requirement already satisfied: pywin32>=300 in c:\\users\\silve\\documents\\data_science\\lib\\site-packages (from jupyter-core!=5.0.*,>=4.12->ipykernel->jupyter-dash==0.4.2) (305.1)\n",
      "Requirement already satisfied: wcwidth in c:\\users\\silve\\documents\\data_science\\lib\\site-packages (from prompt-toolkit<3.1.0,>=3.0.41->ipython->jupyter-dash==0.4.2) (0.2.5)\n",
      "Requirement already satisfied: executing in c:\\users\\silve\\documents\\data_science\\lib\\site-packages (from stack-data->ipython->jupyter-dash==0.4.2) (0.8.3)\n",
      "Requirement already satisfied: asttokens in c:\\users\\silve\\documents\\data_science\\lib\\site-packages (from stack-data->ipython->jupyter-dash==0.4.2) (2.0.5)\n",
      "Requirement already satisfied: pure-eval in c:\\users\\silve\\documents\\data_science\\lib\\site-packages (from stack-data->ipython->jupyter-dash==0.4.2) (0.2.2)\n",
      "Requirement already satisfied: six>=1.5 in c:\\users\\silve\\documents\\data_science\\lib\\site-packages (from python-dateutil>=2.8.2->jupyter-client>=6.1.12->ipykernel->jupyter-dash==0.4.2) (1.16.0)\n",
      "Note: you may need to restart the kernel to use updated packages.\n",
      "Requirement already satisfied: matplotlib in c:\\users\\silve\\documents\\data_science\\lib\\site-packages (3.9.2)\n",
      "Requirement already satisfied: contourpy>=1.0.1 in c:\\users\\silve\\documents\\data_science\\lib\\site-packages (from matplotlib) (1.2.0)\n",
      "Requirement already satisfied: cycler>=0.10 in c:\\users\\silve\\documents\\data_science\\lib\\site-packages (from matplotlib) (0.11.0)\n",
      "Requirement already satisfied: fonttools>=4.22.0 in c:\\users\\silve\\documents\\data_science\\lib\\site-packages (from matplotlib) (4.51.0)\n",
      "Requirement already satisfied: kiwisolver>=1.3.1 in c:\\users\\silve\\documents\\data_science\\lib\\site-packages (from matplotlib) (1.4.4)\n",
      "Requirement already satisfied: numpy>=1.23 in c:\\users\\silve\\documents\\data_science\\lib\\site-packages (from matplotlib) (1.26.4)\n",
      "Requirement already satisfied: packaging>=20.0 in c:\\users\\silve\\documents\\data_science\\lib\\site-packages (from matplotlib) (24.1)\n",
      "Requirement already satisfied: pillow>=8 in c:\\users\\silve\\documents\\data_science\\lib\\site-packages (from matplotlib) (10.4.0)\n",
      "Requirement already satisfied: pyparsing>=2.3.1 in c:\\users\\silve\\documents\\data_science\\lib\\site-packages (from matplotlib) (3.1.2)\n",
      "Requirement already satisfied: python-dateutil>=2.7 in c:\\users\\silve\\documents\\data_science\\lib\\site-packages (from matplotlib) (2.9.0.post0)\n",
      "Requirement already satisfied: six>=1.5 in c:\\users\\silve\\documents\\data_science\\lib\\site-packages (from python-dateutil>=2.7->matplotlib) (1.16.0)\n",
      "Note: you may need to restart the kernel to use updated packages.\n"
     ]
    }
   ],
   "source": [
    "%pip install pandas\n",
    "%pip install numpy\n",
    "%pip install faker\n",
    "%pip install dash==2.14.2 jupyter-dash==0.4.2\n",
    "%pip install matplotlib"
   ]
  },
  {
   "cell_type": "code",
   "execution_count": 7,
   "id": "24e68244-547b-44b2-985e-746dce309224",
   "metadata": {},
   "outputs": [],
   "source": [
    "import pandas as pd\n",
    "import numpy as np\n",
    "from faker import Faker\n",
    "import dash\n",
    "from dash import html, dcc\n",
    "from dash.dependencies import Input,Output\n",
    "import matplotlib as mpl \n",
    "import matplotlib.pyplot as plt\n",
    "import random"
   ]
  },
  {
   "cell_type": "code",
   "execution_count": 8,
   "id": "c2026e25-478b-4100-ab12-4acf02ca9441",
   "metadata": {},
   "outputs": [],
   "source": [
    "from jupyter_dash import JupyterDash\n",
    "from dash import dcc,html\n",
    "from dash.dependencies import Input,Output\n",
    "import plotly.express as px "
   ]
  },
  {
   "cell_type": "code",
   "execution_count": null,
   "id": "4ae02125-fbc1-43a6-b4bd-384f3412b66f",
   "metadata": {},
   "outputs": [],
   "source": []
  },
  {
   "cell_type": "code",
   "execution_count": null,
   "id": "1a37662f-4386-4032-a43e-2617dc3e8d51",
   "metadata": {},
   "outputs": [],
   "source": []
  },
  {
   "cell_type": "code",
   "execution_count": null,
   "id": "655ec343-725f-4f05-81fb-7b90a35e01fa",
   "metadata": {},
   "outputs": [],
   "source": [
    "#Importing differnt datas and combining them into one data. Note, I am using fake data including fake name.  "
   ]
  },
  {
   "cell_type": "code",
   "execution_count": 10,
   "id": "e6b92f8a-8240-4d6a-b671-745063b6e7ea",
   "metadata": {},
   "outputs": [
    {
     "data": {
      "text/html": [
       "<div>\n",
       "<style scoped>\n",
       "    .dataframe tbody tr th:only-of-type {\n",
       "        vertical-align: middle;\n",
       "    }\n",
       "\n",
       "    .dataframe tbody tr th {\n",
       "        vertical-align: top;\n",
       "    }\n",
       "\n",
       "    .dataframe thead th {\n",
       "        text-align: right;\n",
       "    }\n",
       "</style>\n",
       "<table border=\"1\" class=\"dataframe\">\n",
       "  <thead>\n",
       "    <tr style=\"text-align: right;\">\n",
       "      <th></th>\n",
       "      <th>Store_ID</th>\n",
       "      <th>Brand</th>\n",
       "      <th>State</th>\n",
       "      <th>Zipcode</th>\n",
       "      <th>Store_Years_Open</th>\n",
       "      <th>Owner_ID</th>\n",
       "    </tr>\n",
       "  </thead>\n",
       "  <tbody>\n",
       "    <tr>\n",
       "      <th>0</th>\n",
       "      <td>STORE_0</td>\n",
       "      <td>Benjamin Franklin</td>\n",
       "      <td>NY</td>\n",
       "      <td>29767</td>\n",
       "      <td>4</td>\n",
       "      <td>OWN_161</td>\n",
       "    </tr>\n",
       "  </tbody>\n",
       "</table>\n",
       "</div>"
      ],
      "text/plain": [
       "  Store_ID              Brand State  Zipcode  Store_Years_Open Owner_ID\n",
       "0  STORE_0  Benjamin Franklin    NY    29767                 4  OWN_161"
      ]
     },
     "execution_count": 10,
     "metadata": {},
     "output_type": "execute_result"
    }
   ],
   "source": [
    "stores=pd.read_csv(r\"C:\\Users\\silve\\Desktop\\Data Science\\Projects\\Trade Franchises\\Meta Data\\Raw data\\Stores.csv\")\n",
    "stores.head(1)"
   ]
  },
  {
   "cell_type": "code",
   "execution_count": 11,
   "id": "3aab49cb-7f49-453a-8c49-2c5278c9eb3d",
   "metadata": {},
   "outputs": [
    {
     "data": {
      "text/html": [
       "<div>\n",
       "<style scoped>\n",
       "    .dataframe tbody tr th:only-of-type {\n",
       "        vertical-align: middle;\n",
       "    }\n",
       "\n",
       "    .dataframe tbody tr th {\n",
       "        vertical-align: top;\n",
       "    }\n",
       "\n",
       "    .dataframe thead th {\n",
       "        text-align: right;\n",
       "    }\n",
       "</style>\n",
       "<table border=\"1\" class=\"dataframe\">\n",
       "  <thead>\n",
       "    <tr style=\"text-align: right;\">\n",
       "      <th></th>\n",
       "      <th>Owner_ID</th>\n",
       "      <th>Owner_Sex</th>\n",
       "      <th>Owner_Store_Count</th>\n",
       "      <th>Used_Government_Loan</th>\n",
       "      <th>Owner_Entity_Type</th>\n",
       "    </tr>\n",
       "  </thead>\n",
       "  <tbody>\n",
       "    <tr>\n",
       "      <th>0</th>\n",
       "      <td>OWN_0</td>\n",
       "      <td>Male</td>\n",
       "      <td>1</td>\n",
       "      <td>Yes</td>\n",
       "      <td>Corporation</td>\n",
       "    </tr>\n",
       "  </tbody>\n",
       "</table>\n",
       "</div>"
      ],
      "text/plain": [
       "  Owner_ID Owner_Sex  Owner_Store_Count Used_Government_Loan Owner_Entity_Type\n",
       "0    OWN_0      Male                  1                  Yes       Corporation"
      ]
     },
     "execution_count": 11,
     "metadata": {},
     "output_type": "execute_result"
    }
   ],
   "source": [
    "owner=pd.read_csv(r\"C:\\Users\\silve\\Desktop\\Data Science\\Projects\\Trade Franchises\\Meta Data\\Raw data\\Owners.csv\")\n",
    "owner.head(1)"
   ]
  },
  {
   "cell_type": "code",
   "execution_count": 13,
   "id": "232985fd-d64a-4a6e-b506-e0627eb982a2",
   "metadata": {},
   "outputs": [],
   "source": [
    "fake=Faker()\n",
    "name=[fake.name() for _ in range(250)]\n",
    "company=[fake.company() for _ in range(250)]"
   ]
  },
  {
   "cell_type": "code",
   "execution_count": 14,
   "id": "66ac345d-7bf7-4bbb-9058-43e560a02275",
   "metadata": {},
   "outputs": [
    {
     "data": {
      "text/html": [
       "<div>\n",
       "<style scoped>\n",
       "    .dataframe tbody tr th:only-of-type {\n",
       "        vertical-align: middle;\n",
       "    }\n",
       "\n",
       "    .dataframe tbody tr th {\n",
       "        vertical-align: top;\n",
       "    }\n",
       "\n",
       "    .dataframe thead th {\n",
       "        text-align: right;\n",
       "    }\n",
       "</style>\n",
       "<table border=\"1\" class=\"dataframe\">\n",
       "  <thead>\n",
       "    <tr style=\"text-align: right;\">\n",
       "      <th></th>\n",
       "      <th>Owner_ID</th>\n",
       "      <th>Owner_Sex</th>\n",
       "      <th>Owner_Store_Count</th>\n",
       "      <th>Used_Government_Loan</th>\n",
       "      <th>Owner_Entity_Type</th>\n",
       "      <th>Owner_Name</th>\n",
       "      <th>Compnay_Name</th>\n",
       "    </tr>\n",
       "  </thead>\n",
       "  <tbody>\n",
       "    <tr>\n",
       "      <th>0</th>\n",
       "      <td>OWN_0</td>\n",
       "      <td>Male</td>\n",
       "      <td>1</td>\n",
       "      <td>Yes</td>\n",
       "      <td>Corporation</td>\n",
       "      <td>James Crawford</td>\n",
       "      <td>Wood-Lopez</td>\n",
       "    </tr>\n",
       "  </tbody>\n",
       "</table>\n",
       "</div>"
      ],
      "text/plain": [
       "  Owner_ID Owner_Sex  Owner_Store_Count Used_Government_Loan  \\\n",
       "0    OWN_0      Male                  1                  Yes   \n",
       "\n",
       "  Owner_Entity_Type      Owner_Name Compnay_Name  \n",
       "0       Corporation  James Crawford   Wood-Lopez  "
      ]
     },
     "execution_count": 14,
     "metadata": {},
     "output_type": "execute_result"
    }
   ],
   "source": [
    "owner[\"Owner_Name\"]=name\n",
    "owner[\"Compnay_Name\"]=company\n",
    "owner.head(1)"
   ]
  },
  {
   "cell_type": "code",
   "execution_count": 15,
   "id": "345d3f58-6cdd-4fb7-8432-9e66c0e50b6e",
   "metadata": {},
   "outputs": [
    {
     "data": {
      "text/html": [
       "<div>\n",
       "<style scoped>\n",
       "    .dataframe tbody tr th:only-of-type {\n",
       "        vertical-align: middle;\n",
       "    }\n",
       "\n",
       "    .dataframe tbody tr th {\n",
       "        vertical-align: top;\n",
       "    }\n",
       "\n",
       "    .dataframe thead th {\n",
       "        text-align: right;\n",
       "    }\n",
       "</style>\n",
       "<table border=\"1\" class=\"dataframe\">\n",
       "  <thead>\n",
       "    <tr style=\"text-align: right;\">\n",
       "      <th></th>\n",
       "      <th>Store_ID</th>\n",
       "      <th>Total_Revenue_12mo</th>\n",
       "      <th>Total_Revenue_6mo</th>\n",
       "      <th>Total_Revenue_3mo</th>\n",
       "      <th>Revenue_Trend_Flag</th>\n",
       "    </tr>\n",
       "  </thead>\n",
       "  <tbody>\n",
       "    <tr>\n",
       "      <th>0</th>\n",
       "      <td>STORE_0</td>\n",
       "      <td>756167</td>\n",
       "      <td>420498</td>\n",
       "      <td>75552</td>\n",
       "      <td>Increasing</td>\n",
       "    </tr>\n",
       "  </tbody>\n",
       "</table>\n",
       "</div>"
      ],
      "text/plain": [
       "  Store_ID  Total_Revenue_12mo  Total_Revenue_6mo  Total_Revenue_3mo  \\\n",
       "0  STORE_0              756167             420498              75552   \n",
       "\n",
       "  Revenue_Trend_Flag  \n",
       "0         Increasing  "
      ]
     },
     "execution_count": 15,
     "metadata": {},
     "output_type": "execute_result"
    }
   ],
   "source": [
    "rev=pd.read_csv(r\"C:\\Users\\silve\\Desktop\\Data Science\\Projects\\Trade Franchises\\Meta Data\\Raw data\\Revenue.csv\")\n",
    "\n",
    "rev.head(1)"
   ]
  },
  {
   "cell_type": "code",
   "execution_count": 16,
   "id": "3feac37a-2961-4229-9170-f14e9ccc7f23",
   "metadata": {},
   "outputs": [
    {
     "data": {
      "text/html": [
       "<div>\n",
       "<style scoped>\n",
       "    .dataframe tbody tr th:only-of-type {\n",
       "        vertical-align: middle;\n",
       "    }\n",
       "\n",
       "    .dataframe tbody tr th {\n",
       "        vertical-align: top;\n",
       "    }\n",
       "\n",
       "    .dataframe thead th {\n",
       "        text-align: right;\n",
       "    }\n",
       "</style>\n",
       "<table border=\"1\" class=\"dataframe\">\n",
       "  <thead>\n",
       "    <tr style=\"text-align: right;\">\n",
       "      <th></th>\n",
       "      <th>Store_ID</th>\n",
       "      <th>Missed_Payments_12mo</th>\n",
       "      <th>Missed_Payments_6mo</th>\n",
       "      <th>Missed_Payments_3mo</th>\n",
       "      <th>Initial_Fee_Paid</th>\n",
       "      <th>Initial_Fee_Remaining</th>\n",
       "      <th>Initial_Fee_On_Schedule</th>\n",
       "      <th>Royalty_Paid_Expected</th>\n",
       "      <th>Royalty_Paid_Actual</th>\n",
       "      <th>Marketing_Paid_Expected</th>\n",
       "      <th>Marketing_Paid_Actual</th>\n",
       "      <th>Min_Royalty_Biweekly</th>\n",
       "      <th>Missed_Marketing_Payment_Streak</th>\n",
       "    </tr>\n",
       "  </thead>\n",
       "  <tbody>\n",
       "    <tr>\n",
       "      <th>0</th>\n",
       "      <td>STORE_0</td>\n",
       "      <td>2</td>\n",
       "      <td>1</td>\n",
       "      <td>1</td>\n",
       "      <td>29850</td>\n",
       "      <td>10000</td>\n",
       "      <td>Yes</td>\n",
       "      <td>19046</td>\n",
       "      <td>750</td>\n",
       "      <td>900</td>\n",
       "      <td>6000</td>\n",
       "      <td>750</td>\n",
       "      <td>2</td>\n",
       "    </tr>\n",
       "  </tbody>\n",
       "</table>\n",
       "</div>"
      ],
      "text/plain": [
       "  Store_ID  Missed_Payments_12mo  Missed_Payments_6mo  Missed_Payments_3mo  \\\n",
       "0  STORE_0                     2                    1                    1   \n",
       "\n",
       "   Initial_Fee_Paid  Initial_Fee_Remaining Initial_Fee_On_Schedule  \\\n",
       "0             29850                  10000                     Yes   \n",
       "\n",
       "   Royalty_Paid_Expected  Royalty_Paid_Actual  Marketing_Paid_Expected  \\\n",
       "0                  19046                  750                      900   \n",
       "\n",
       "   Marketing_Paid_Actual  Min_Royalty_Biweekly  \\\n",
       "0                   6000                   750   \n",
       "\n",
       "   Missed_Marketing_Payment_Streak  \n",
       "0                                2  "
      ]
     },
     "execution_count": 16,
     "metadata": {},
     "output_type": "execute_result"
    }
   ],
   "source": [
    "pay=pd.read_csv(r\"C:\\Users\\silve\\Desktop\\Data Science\\Projects\\Trade Franchises\\Meta Data\\Raw data\\Payments.csv\")\n",
    "pay.head(1)"
   ]
  },
  {
   "cell_type": "code",
   "execution_count": 19,
   "id": "f3c7dd40-34ba-4c14-8f8d-e40544c536a2",
   "metadata": {},
   "outputs": [],
   "source": [
    "rev[\"Owner_ID\"]=stores[\"Owner_ID\"]"
   ]
  },
  {
   "cell_type": "code",
   "execution_count": null,
   "id": "0fbff710-bc46-400f-98e6-3e352fd78b63",
   "metadata": {},
   "outputs": [],
   "source": []
  },
  {
   "cell_type": "code",
   "execution_count": null,
   "id": "cbe827d5-470c-4f81-b0d9-028f16b8bee1",
   "metadata": {},
   "outputs": [],
   "source": [
    "#adding owner data and comapny data to rev by using owner_id"
   ]
  },
  {
   "cell_type": "code",
   "execution_count": 18,
   "id": "f7afc8ca-a9ec-4790-9c33-2061d367fa85",
   "metadata": {},
   "outputs": [
    {
     "data": {
      "text/html": [
       "<div>\n",
       "<style scoped>\n",
       "    .dataframe tbody tr th:only-of-type {\n",
       "        vertical-align: middle;\n",
       "    }\n",
       "\n",
       "    .dataframe tbody tr th {\n",
       "        vertical-align: top;\n",
       "    }\n",
       "\n",
       "    .dataframe thead th {\n",
       "        text-align: right;\n",
       "    }\n",
       "</style>\n",
       "<table border=\"1\" class=\"dataframe\">\n",
       "  <thead>\n",
       "    <tr style=\"text-align: right;\">\n",
       "      <th></th>\n",
       "      <th>Store_ID</th>\n",
       "      <th>Total_Revenue_12mo</th>\n",
       "      <th>Total_Revenue_6mo</th>\n",
       "      <th>Total_Revenue_3mo</th>\n",
       "      <th>Revenue_Trend_Flag</th>\n",
       "      <th>Owner_ID</th>\n",
       "      <th>Owner_Name</th>\n",
       "      <th>Company_Name</th>\n",
       "    </tr>\n",
       "  </thead>\n",
       "  <tbody>\n",
       "    <tr>\n",
       "      <th>0</th>\n",
       "      <td>STORE_0</td>\n",
       "      <td>756167</td>\n",
       "      <td>420498</td>\n",
       "      <td>75552</td>\n",
       "      <td>Increasing</td>\n",
       "      <td>OWN_161</td>\n",
       "      <td>Elizabeth Mills</td>\n",
       "      <td>Gaines, Martinez and Allen</td>\n",
       "    </tr>\n",
       "  </tbody>\n",
       "</table>\n",
       "</div>"
      ],
      "text/plain": [
       "  Store_ID  Total_Revenue_12mo  Total_Revenue_6mo  Total_Revenue_3mo  \\\n",
       "0  STORE_0              756167             420498              75552   \n",
       "\n",
       "  Revenue_Trend_Flag Owner_ID       Owner_Name                Company_Name  \n",
       "0         Increasing  OWN_161  Elizabeth Mills  Gaines, Martinez and Allen  "
      ]
     },
     "execution_count": 18,
     "metadata": {},
     "output_type": "execute_result"
    }
   ],
   "source": [
    "for n in range(len(rev[\"Owner_ID\"])):\n",
    "    temp=rev.iloc[n,5]\n",
    "    m=0\n",
    "    while m<599:\n",
    "        temp2=owner.iloc[m,0]\n",
    "        if temp==temp2:\n",
    "            rev.loc[n,\"Owner_Name\"]=owner.iloc[m,5]\n",
    "            rev.loc[n,\"Company_Name\"]=owner.iloc[m,6]\n",
    "            m=600\n",
    "        else:\n",
    "            m=m+1\n",
    "rev.head(1)\n",
    "               "
   ]
  },
  {
   "cell_type": "code",
   "execution_count": null,
   "id": "49f5a7c2-608d-4a02-bfbe-600967032d42",
   "metadata": {},
   "outputs": [],
   "source": [
    "#adding state and brand to rev"
   ]
  },
  {
   "cell_type": "code",
   "execution_count": 20,
   "id": "ac89a82e-42af-4fb4-af6f-fa1768427b6a",
   "metadata": {},
   "outputs": [
    {
     "data": {
      "text/html": [
       "<div>\n",
       "<style scoped>\n",
       "    .dataframe tbody tr th:only-of-type {\n",
       "        vertical-align: middle;\n",
       "    }\n",
       "\n",
       "    .dataframe tbody tr th {\n",
       "        vertical-align: top;\n",
       "    }\n",
       "\n",
       "    .dataframe thead th {\n",
       "        text-align: right;\n",
       "    }\n",
       "</style>\n",
       "<table border=\"1\" class=\"dataframe\">\n",
       "  <thead>\n",
       "    <tr style=\"text-align: right;\">\n",
       "      <th></th>\n",
       "      <th>Store_ID</th>\n",
       "      <th>Total_Revenue_12mo</th>\n",
       "      <th>Total_Revenue_6mo</th>\n",
       "      <th>Total_Revenue_3mo</th>\n",
       "      <th>Revenue_Trend_Flag</th>\n",
       "      <th>Owner_ID</th>\n",
       "      <th>Owner_Name</th>\n",
       "      <th>Company_Name</th>\n",
       "      <th>Brand</th>\n",
       "      <th>State</th>\n",
       "    </tr>\n",
       "  </thead>\n",
       "  <tbody>\n",
       "    <tr>\n",
       "      <th>0</th>\n",
       "      <td>STORE_0</td>\n",
       "      <td>756167</td>\n",
       "      <td>420498</td>\n",
       "      <td>75552</td>\n",
       "      <td>Increasing</td>\n",
       "      <td>OWN_161</td>\n",
       "      <td>Elizabeth Mills</td>\n",
       "      <td>Gaines, Martinez and Allen</td>\n",
       "      <td>Benjamin Franklin</td>\n",
       "      <td>NY</td>\n",
       "    </tr>\n",
       "  </tbody>\n",
       "</table>\n",
       "</div>"
      ],
      "text/plain": [
       "  Store_ID  Total_Revenue_12mo  Total_Revenue_6mo  Total_Revenue_3mo  \\\n",
       "0  STORE_0              756167             420498              75552   \n",
       "\n",
       "  Revenue_Trend_Flag Owner_ID       Owner_Name                Company_Name  \\\n",
       "0         Increasing  OWN_161  Elizabeth Mills  Gaines, Martinez and Allen   \n",
       "\n",
       "               Brand State  \n",
       "0  Benjamin Franklin    NY  "
      ]
     },
     "execution_count": 20,
     "metadata": {},
     "output_type": "execute_result"
    }
   ],
   "source": [
    "rev[\"Brand\"]=stores[\"Brand\"]\n",
    "rev[\"State\"]=stores[\"State\"]\n",
    "rev.head(1)"
   ]
  },
  {
   "cell_type": "code",
   "execution_count": 21,
   "id": "ab1cd0df-00a2-4caa-9889-66fad602c28a",
   "metadata": {},
   "outputs": [
    {
     "data": {
      "text/html": [
       "<div>\n",
       "<style scoped>\n",
       "    .dataframe tbody tr th:only-of-type {\n",
       "        vertical-align: middle;\n",
       "    }\n",
       "\n",
       "    .dataframe tbody tr th {\n",
       "        vertical-align: top;\n",
       "    }\n",
       "\n",
       "    .dataframe thead th {\n",
       "        text-align: right;\n",
       "    }\n",
       "</style>\n",
       "<table border=\"1\" class=\"dataframe\">\n",
       "  <thead>\n",
       "    <tr style=\"text-align: right;\">\n",
       "      <th></th>\n",
       "      <th>Store_ID</th>\n",
       "      <th>Total_Revenue_12mo</th>\n",
       "      <th>Total_Revenue_6mo</th>\n",
       "      <th>Total_Revenue_3mo</th>\n",
       "      <th>Revenue_Trend_Flag</th>\n",
       "      <th>Owner_ID</th>\n",
       "      <th>Owner_Name</th>\n",
       "      <th>Company_Name</th>\n",
       "      <th>Brand</th>\n",
       "      <th>State</th>\n",
       "      <th>Total_Revenue_month</th>\n",
       "      <th>Total_Revenue_current</th>\n",
       "    </tr>\n",
       "  </thead>\n",
       "  <tbody>\n",
       "    <tr>\n",
       "      <th>0</th>\n",
       "      <td>STORE_0</td>\n",
       "      <td>756167</td>\n",
       "      <td>420498</td>\n",
       "      <td>75552</td>\n",
       "      <td>Increasing</td>\n",
       "      <td>OWN_161</td>\n",
       "      <td>Elizabeth Mills</td>\n",
       "      <td>Gaines, Martinez and Allen</td>\n",
       "      <td>Benjamin Franklin</td>\n",
       "      <td>NY</td>\n",
       "      <td>1500</td>\n",
       "      <td>750</td>\n",
       "    </tr>\n",
       "  </tbody>\n",
       "</table>\n",
       "</div>"
      ],
      "text/plain": [
       "  Store_ID  Total_Revenue_12mo  Total_Revenue_6mo  Total_Revenue_3mo  \\\n",
       "0  STORE_0              756167             420498              75552   \n",
       "\n",
       "  Revenue_Trend_Flag Owner_ID       Owner_Name                Company_Name  \\\n",
       "0         Increasing  OWN_161  Elizabeth Mills  Gaines, Martinez and Allen   \n",
       "\n",
       "               Brand State  Total_Revenue_month  Total_Revenue_current  \n",
       "0  Benjamin Franklin    NY                 1500                    750  "
      ]
     },
     "execution_count": 21,
     "metadata": {},
     "output_type": "execute_result"
    }
   ],
   "source": [
    "rev[\"Total_Revenue_month\"]=pay[\"Royalty_Paid_Actual\"]*2\n",
    "rev[\"Total_Revenue_current\"]=pay[\"Royalty_Paid_Actual\"]\n",
    "rev.head(1)"
   ]
  },
  {
   "cell_type": "code",
   "execution_count": null,
   "id": "fa796fd5-e300-4d84-8194-1c4026764270",
   "metadata": {},
   "outputs": [],
   "source": [
    "# the fake data I have needs to be reorderd. 3 month revenue cannot be greater than 12mo rev. "
   ]
  },
  {
   "cell_type": "code",
   "execution_count": 23,
   "id": "140c18a7-8ff6-4ace-baf9-997b9508b22e",
   "metadata": {},
   "outputs": [
    {
     "data": {
      "text/html": [
       "<div>\n",
       "<style scoped>\n",
       "    .dataframe tbody tr th:only-of-type {\n",
       "        vertical-align: middle;\n",
       "    }\n",
       "\n",
       "    .dataframe tbody tr th {\n",
       "        vertical-align: top;\n",
       "    }\n",
       "\n",
       "    .dataframe thead th {\n",
       "        text-align: right;\n",
       "    }\n",
       "</style>\n",
       "<table border=\"1\" class=\"dataframe\">\n",
       "  <thead>\n",
       "    <tr style=\"text-align: right;\">\n",
       "      <th></th>\n",
       "      <th>Store_ID</th>\n",
       "      <th>Total_Revenue_12mo</th>\n",
       "      <th>Total_Revenue_6mo</th>\n",
       "      <th>Total_Revenue_3mo</th>\n",
       "      <th>Revenue_Trend_Flag</th>\n",
       "      <th>Owner_ID</th>\n",
       "      <th>Owner_Name</th>\n",
       "      <th>Company_Name</th>\n",
       "      <th>Brand</th>\n",
       "      <th>State</th>\n",
       "      <th>Total_Revenue_month</th>\n",
       "      <th>Total_Revenue_current</th>\n",
       "    </tr>\n",
       "  </thead>\n",
       "  <tbody>\n",
       "    <tr>\n",
       "      <th>0</th>\n",
       "      <td>STORE_0</td>\n",
       "      <td>756167</td>\n",
       "      <td>420498</td>\n",
       "      <td>75552</td>\n",
       "      <td>Increasing</td>\n",
       "      <td>OWN_161</td>\n",
       "      <td>Elizabeth Mills</td>\n",
       "      <td>Gaines, Martinez and Allen</td>\n",
       "      <td>Benjamin Franklin</td>\n",
       "      <td>NY</td>\n",
       "      <td>1500</td>\n",
       "      <td>750</td>\n",
       "    </tr>\n",
       "  </tbody>\n",
       "</table>\n",
       "</div>"
      ],
      "text/plain": [
       "  Store_ID  Total_Revenue_12mo  Total_Revenue_6mo  Total_Revenue_3mo  \\\n",
       "0  STORE_0              756167             420498              75552   \n",
       "\n",
       "  Revenue_Trend_Flag Owner_ID       Owner_Name                Company_Name  \\\n",
       "0         Increasing  OWN_161  Elizabeth Mills  Gaines, Martinez and Allen   \n",
       "\n",
       "               Brand State  Total_Revenue_month  Total_Revenue_current  \n",
       "0  Benjamin Franklin    NY                 1500                    750  "
      ]
     },
     "execution_count": 23,
     "metadata": {},
     "output_type": "execute_result"
    }
   ],
   "source": [
    "\n",
    "temp_12m=rev[\"Total_Revenue_12mo\"].copy()\n",
    "temp_6m=rev[\"Total_Revenue_6mo\"].copy()\n",
    "temp_3m=rev[\"Total_Revenue_3mo\"].copy()\n",
    "\n",
    "for n in range(len(rev[\"Store_ID\"])):\n",
    "    t12=temp_12m[n]\n",
    "    t6=temp_6m[n]\n",
    "    t3=temp_3m[n]\n",
    "    temp=[t12,t6,t3]\n",
    "    temp.sort()  \n",
    "    temp_12=temp[2]\n",
    "    temp_6=temp[1]\n",
    "    temp_3=temp[0]\n",
    "    temp_12m[n]=temp_12\n",
    "    temp_6m[n]=temp_6\n",
    "    temp_3m[n]=temp_3\n",
    "    temp=pd.NA\n",
    "\n",
    "rev[\"Total_Revenue_12mo\"]=temp_12m\n",
    "rev[\"Total_Revenue_6mo\"]=temp_6m\n",
    "rev[\"Total_Revenue_3mo\"]=temp_3m\n",
    "rev.head(1)"
   ]
  },
  {
   "cell_type": "code",
   "execution_count": null,
   "id": "5514356c-789b-43eb-befb-659955313770",
   "metadata": {},
   "outputs": [],
   "source": []
  },
  {
   "cell_type": "code",
   "execution_count": null,
   "id": "ff35aeaa-b1e3-4e68-a814-e55fc7a2a1b9",
   "metadata": {},
   "outputs": [],
   "source": [
    "# creating new list based on sorting values. ex. top 12 lists contain sorted values based on 12 month rev. "
   ]
  },
  {
   "cell_type": "code",
   "execution_count": 24,
   "id": "fa2f9694-2c93-41a9-89d9-ed490d9c2a3e",
   "metadata": {},
   "outputs": [],
   "source": [
    "top12=rev.sort_values(\"Total_Revenue_12mo\", ascending=False)\n",
    "top6=rev.sort_values(\"Total_Revenue_6mo\", ascending=False)\n",
    "top3=rev.sort_values(\"Total_Revenue_3mo\", ascending=False)\n",
    "topm=rev.sort_values(\"Total_Revenue_month\", ascending=False)\n",
    "topc=rev.sort_values(\"Total_Revenue_current\", ascending=False)"
   ]
  },
  {
   "cell_type": "code",
   "execution_count": 25,
   "id": "6d57db94-4e41-4028-890b-c2865a431052",
   "metadata": {},
   "outputs": [],
   "source": [
    "bottom12=rev.sort_values(\"Total_Revenue_12mo\", ascending=True)\n",
    "bottom6=rev.sort_values(\"Total_Revenue_6mo\", ascending=True)\n",
    "bottom3=rev.sort_values(\"Total_Revenue_3mo\", ascending=True)\n",
    "bottomm=rev.sort_values(\"Total_Revenue_month\", ascending=True)\n",
    "bottomc=rev.sort_values(\"Total_Revenue_current\", ascending=True)"
   ]
  },
  {
   "cell_type": "code",
   "execution_count": null,
   "id": "0626fe72-7966-4530-922c-bee7944ec442",
   "metadata": {},
   "outputs": [],
   "source": []
  },
  {
   "cell_type": "code",
   "execution_count": null,
   "id": "f4172c46-ca7e-4e92-8e22-2d01ae13cef7",
   "metadata": {},
   "outputs": [],
   "source": [
    "# Visualizing the data. the below object creats bar charts,pie charts, and other chart to show the data. "
   ]
  },
  {
   "cell_type": "code",
   "execution_count": 29,
   "id": "1c2da454-63c2-4a7f-9bc9-b6712773a0a2",
   "metadata": {},
   "outputs": [
    {
     "data": {
      "image/png": "[encoded data removed]",
      "text/plain": [
       "<Figure size 640x480 with 1 Axes>"
      ]
     },
     "metadata": {},
     "output_type": "display_data"
    },
    {
     "name": "stdout",
     "output_type": "stream",
     "text": [
      "24     279537\n",
      "404    274809\n",
      "329    272139\n",
      "77     271609\n",
      "372    261420\n",
      "Name: Total_Revenue_3mo, dtype: int64\n"
     ]
    }
   ],
   "source": [
    "def brandtop(state,time):\n",
    "    topp=rev\n",
    "    if time==1:\n",
    "        topp=top12\n",
    "        name=\"Total_Revenue_12mo\"\n",
    "        title=f\" Top 5 {state} stores by Revenue in 12 month\"\n",
    "    if time==2:\n",
    "        topp=top6\n",
    "        name=\"Total_Revenue_6mo\"\n",
    "        title=f\" Top 5 {state} stores by Revenue in 6 month\"\n",
    "    if time==3:\n",
    "        topp=top3\n",
    "        name=\"Total_Revenue_3mo\"\n",
    "        title=f\" Top 5 {state} stores by Revenue in 3 month\"\n",
    "    if time==4:\n",
    "        topp=topm\n",
    "        name=\"Total_Revenue_month\"\n",
    "        title=f\" Top 5 {state} stores by Revenue in 1 month\"\n",
    "    if time==5:\n",
    "        topp=topc\n",
    "        name=\"Total_Revenue_current\"\n",
    "        title=f\" Top 5 {state} stores by Revenue currently\"\n",
    "    topp=topp[topp[\"Brand\"]==state]\n",
    "    topp=topp.head()\n",
    "    plt.bar(topp[\"Store_ID\"],topp[name])\n",
    "    plt.title(title)\n",
    "    plt.show()\n",
    "    print(topp[name])\n",
    "\n",
    "\n",
    "brandtop(\"One Hour\",3)"
   ]
  },
  {
   "cell_type": "code",
   "execution_count": 30,
   "id": "82a2b3c9-f4b1-498b-9713-029f8fa35367",
   "metadata": {},
   "outputs": [
    {
     "data": {
      "image/png": "[encoded data removed]",
      "text/plain": [
       "<Figure size 640x480 with 1 Axes>"
      ]
     },
     "metadata": {},
     "output_type": "display_data"
    },
    {
     "name": "stdout",
     "output_type": "stream",
     "text": [
      "131    14158\n",
      "381    14787\n",
      "514    16654\n",
      "76     16834\n",
      "309    20903\n",
      "Name: Total_Revenue_3mo, dtype: int64\n"
     ]
    }
   ],
   "source": [
    "def brandbotttom(state,time):\n",
    "    topp=rev\n",
    "    if time==1:\n",
    "        topp=bottom12\n",
    "        name=\"Total_Revenue_12mo\"\n",
    "        title=f\" Bottom 5 {state} stores by Revenue in 12 month\"\n",
    "    if time==2:\n",
    "        topp=bottom6\n",
    "        name=\"Total_Revenue_6mo\"\n",
    "        title=f\" Bottom 5 {state} stores by Revenue in 6 month\"\n",
    "    if time==3:\n",
    "        topp=bottom3\n",
    "        name=\"Total_Revenue_3mo\"\n",
    "        title=f\" Bottom 5 {state} stores by Revenue in 3 month\"\n",
    "    if time==4:\n",
    "        topp=bottom1\n",
    "        name=\"Total_Revenue_month\"\n",
    "        title=f\" Bottom 5 {state} stores by Revenue in 1 month\"\n",
    "    if time==5:\n",
    "        topp=bottomc\n",
    "        name=\"Total_Revenue_current\"\n",
    "        title=f\" Bottom 5 {state} stores by Revenue currently\"\n",
    "    topp=topp[topp[\"Brand\"]==state]\n",
    "    topp=topp.head()\n",
    "    plt.bar(topp[\"Store_ID\"],topp[name])\n",
    "    plt.title(title)\n",
    "    plt.show()\n",
    "    print(topp[name])\n",
    "\n",
    "\n",
    "brandbotttom(\"Mister Sparky\",3)"
   ]
  },
  {
   "cell_type": "code",
   "execution_count": 31,
   "id": "89fce650-b3f4-428a-8640-283acfb79691",
   "metadata": {},
   "outputs": [
    {
     "data": {
      "image/png": "[encoded data removed]",
      "text/plain": [
       "<Figure size 640x480 with 1 Axes>"
      ]
     },
     "metadata": {},
     "output_type": "display_data"
    },
    {
     "name": "stdout",
     "output_type": "stream",
     "text": [
      "207    16563\n",
      "221    20426\n",
      "211    34194\n",
      "57     34996\n",
      "287    36558\n",
      "Name: Total_Revenue_3mo, dtype: int64\n"
     ]
    }
   ],
   "source": [
    "def statebottom(state,time):\n",
    "    topp=rev\n",
    "    if time==1:\n",
    "        topp=bottom12\n",
    "        name=\"Total_Revenue_12mo\"\n",
    "        title=f\" Bottom 5 {state} stores by Revenue in 12 month\"\n",
    "    if time==2:\n",
    "        topp=bottom6\n",
    "        name=\"Total_Revenue_6mo\"\n",
    "        title=f\" Bottom 5 {state} stores by Revenue in 6 month\"\n",
    "    if time==3:\n",
    "        topp=bottom3\n",
    "        name=\"Total_Revenue_3mo\"\n",
    "        title=f\" Bottom 5 {state} stores by Revenue in 3 month\"\n",
    "    if time==4:\n",
    "        topp=bottom1\n",
    "        name=\"Total_Revenue_month\"\n",
    "        title=f\" Bottom 5 {state} stores by Revenue in 1 month\"\n",
    "    if time==5:\n",
    "        topp=bottomc\n",
    "        name=\"Total_Revenue_current\"\n",
    "        title=f\" Bottom 5 {state} stores by Revenue currently\"\n",
    "    topp=topp[topp[\"State\"]==state]\n",
    "    topp=topp.head()\n",
    "    plt.bar(topp[\"Store_ID\"],topp[name])\n",
    "    plt.title(title)\n",
    "    plt.show()\n",
    "    print(topp[name])\n",
    "\n",
    "\n",
    "statebottom(\"NY\",3)"
   ]
  },
  {
   "cell_type": "code",
   "execution_count": 32,
   "id": "836ab0c6-d8c2-4b8c-9349-3a8bad337d98",
   "metadata": {},
   "outputs": [
    {
     "data": {
      "image/png": "[encoded data removed]",
      "text/plain": [
       "<Figure size 640x480 with 1 Axes>"
      ]
     },
     "metadata": {},
     "output_type": "display_data"
    },
    {
     "name": "stdout",
     "output_type": "stream",
     "text": [
      "200    281188\n",
      "505    256027\n",
      "364    253907\n",
      "529    244537\n",
      "255    242033\n",
      "Name: Total_Revenue_3mo, dtype: int64\n"
     ]
    }
   ],
   "source": [
    "def statetop(state,time):\n",
    "    topp=rev\n",
    "    if time==1:\n",
    "        topp=top12\n",
    "        name=\"Total_Revenue_12mo\"\n",
    "        title=f\" Top 5 {state} stores by Revenue in 12 month\"\n",
    "    if time==2:\n",
    "        topp=top6\n",
    "        name=\"Total_Revenue_6mo\"\n",
    "        title=f\" Top 5 {state} stores by Revenue in 6 month\"\n",
    "    if time==3:\n",
    "        topp=top3\n",
    "        name=\"Total_Revenue_3mo\"\n",
    "        title=f\" Top 5 {state} stores by Revenue in 3 month\"\n",
    "    if time==4:\n",
    "        topp=topm\n",
    "        name=\"Total_Revenue_month\"\n",
    "        title=f\" Top 5 {state} stores by Revenue in 1 month\"\n",
    "    if time==5:\n",
    "        topp=topc\n",
    "        name=\"Total_Revenue_current\"\n",
    "        title=f\" Top 5 {state} stores by Revenue currently\"\n",
    "    topp=topp[topp[\"State\"]==state]\n",
    "    topp=topp.head()\n",
    "    plt.bar(topp[\"Store_ID\"],topp[name])\n",
    "    plt.title(title)\n",
    "    plt.show()\n",
    "    print(topp[name])\n",
    "\n",
    "\n",
    "statetop(\"NY\",3)"
   ]
  },
  {
   "cell_type": "code",
   "execution_count": 33,
   "id": "8249e55b-ca36-4538-9b76-be543e412393",
   "metadata": {},
   "outputs": [
    {
     "name": "stderr",
     "output_type": "stream",
     "text": [
      "C:\\Users\\silve\\AppData\\Local\\Temp\\ipykernel_9504\\3493298124.py:24: FutureWarning:\n",
      "\n",
      "The 'axis' keyword in DataFrame.groupby is deprecated and will be removed in a future version.\n",
      "\n"
     ]
    },
    {
     "data": {
      "image/png": "[encoded data removed]",
      "text/plain": [
       "<Figure size 500x600 with 1 Axes>"
      ]
     },
     "metadata": {},
     "output_type": "display_data"
    }
   ],
   "source": [
    "def pies(option,time):\n",
    "    topp=rev\n",
    "    if time==1:\n",
    "        topp=top12\n",
    "        name=\"Total_Revenue_12mo\"\n",
    "        title=\"  Revenue in 12 month\"\n",
    "    if time==2:\n",
    "        topp=top6\n",
    "        name=\"Total_Revenue_6mo\"\n",
    "        title=\" Revenue in 6 month\"\n",
    "    if time==3:\n",
    "        topp=top3\n",
    "        name=\"Total_Revenue_3mo\"\n",
    "        title=\" Revenue in 3 month\"\n",
    "    if time==4:\n",
    "        topp=topm\n",
    "        name=\"Total_Revenue_month\"\n",
    "        title=\"Revenue in 1 month\"\n",
    "    if time==5:\n",
    "        topp=topc\n",
    "        name=\"Total_Revenue_current\"\n",
    "        title=\"Current Revenue \"\n",
    "    topp=topp[[option,name]]\n",
    "    topp=topp.groupby(option,axis=0).sum()\n",
    "    topp[name].plot(kind='pie', figsize=(5,6),\n",
    "                    autopct='%1.1f%%',\n",
    "                   startangle=90,\n",
    "                   shadow=True)\n",
    "    plt.title(title)\n",
    "    plt.show()\n",
    "\n",
    "pies(\"Brand\",5)"
   ]
  },
  {
   "cell_type": "code",
   "execution_count": null,
   "id": "81f694df-9541-49f0-ac80-4f018f4e469f",
   "metadata": {},
   "outputs": [],
   "source": []
  },
  {
   "cell_type": "code",
   "execution_count": null,
   "id": "9bc3c860-63c5-4c9e-a46c-a3657ca641c3",
   "metadata": {},
   "outputs": [],
   "source": [
    "# the below 6 are callable object if nedded. "
   ]
  },
  {
   "cell_type": "code",
   "execution_count": 34,
   "id": "bee34823-d08f-40ce-814b-a1341e788a30",
   "metadata": {},
   "outputs": [],
   "source": [
    "def lined(store):\n",
    "    line=store\n",
    "    chop=rev.iloc[line]\t\n",
    "    return chop\n"
   ]
  },
  {
   "cell_type": "code",
   "execution_count": null,
   "id": "6e7a7835-5138-45ab-a1a2-6266f414da05",
   "metadata": {},
   "outputs": [],
   "source": [
    "def lines(store):\n",
    "    line=store\n",
    "    chop=rev.iloc[line]\t\n",
    "    revenue={\"Revenue\":[chop[\"Total_Revenue_current\"],chop[\"Total_Revenue_month\"],chop[\"Total_Revenue_3mo\"],\n",
    "            chop[\"Total_Revenue_6mo\"],chop[\"Total_Revenue_12mo\"]],\"Time\":[\"Current \",\"1mo\",\"3mo\",\"6mo\",\"12mo\"]}\n",
    "    fig=px.line(revenue,x=\"Time\",y=\"Revenue\")\n",
    "    return fig"
   ]
  },
  {
   "cell_type": "code",
   "execution_count": null,
   "id": "c46ede10-d9ac-4f74-890a-5f3a5fac0f6b",
   "metadata": {},
   "outputs": [],
   "source": [
    "def top():\n",
    "    topp=top12\n",
    "    name=\"Total_Revenue_12mo\"\n",
    "    title=\"Top 5 stores by Revenue in 12 month\"\n",
    "    topp=topp.head()\n",
    "    fig=px.bar(topp,x=\"Store_ID\",y=\"Total_Revenue_12mo\")\n",
    "    fig.update_layout(title=title)\n",
    "    return fig"
   ]
  },
  {
   "cell_type": "code",
   "execution_count": null,
   "id": "ab707249-815d-40ae-8e4d-8caa9c53ab9d",
   "metadata": {},
   "outputs": [],
   "source": [
    "def bottom():\n",
    "    topp=bottom12\n",
    "    name=\"Total_Revenue_12mo\"\n",
    "    title=\" Bottom 5 stores by Revenue in 12 month\"\n",
    "    topp=topp.head()\n",
    "    fig=px.bar(topp,x=\"Store_ID\",y=\"Total_Revenue_12mo\")\n",
    "    fig.update_layout(title=title)\n",
    "    return fig\n",
    "    "
   ]
  },
  {
   "cell_type": "code",
   "execution_count": null,
   "id": "5cfcc5a2-8777-4f5d-a573-7c883f610cf8",
   "metadata": {},
   "outputs": [],
   "source": [
    "def pieb():\n",
    "    topp=topc\n",
    "    brand=\"Brand\"\n",
    "    current=\"Total_Revenue_current\"\n",
    "    title=\"Current Revenue \"\n",
    "    topp=topp[[brand,current]]\n",
    "    topp=topp.groupby(brand).sum().reset_index()\n",
    "    fig=px.pie(topp, names=\"Brand\", values=\"Total_Revenue_current\",hole=0) \n",
    "    fig.update_traces(textinfo='percent+label',\n",
    "                      pull=[0.05]*len(topp))\n",
    "    fig.update_layout(title=title, height=600, width=500)\n",
    "    return fig"
   ]
  },
  {
   "cell_type": "code",
   "execution_count": null,
   "id": "3a4fa365-9d0c-4b19-8df0-4fe1d095fb9e",
   "metadata": {},
   "outputs": [],
   "source": [
    "def pies():\n",
    "    topp=rev\n",
    "    topp=topc\n",
    "    brand=\"State\"\n",
    "    current=\"Total_Revenue_current\"\n",
    "    title=\"Current Revenue \"\n",
    "    topp=topp[[brand,current]]\n",
    "    topp=topp.groupby(brand).sum().reset_index()\n",
    "    fig=px.pie(topp, names=\"State\", values=\"Total_Revenue_current\",hole=0) \n",
    "    fig.update_traces(textinfo='percent+label',\n",
    "                      pull=[0.05]*len(topp))\n",
    "    fig.update_layout(title=title, height=600, width=500)\n",
    "    return fig"
   ]
  },
  {
   "cell_type": "code",
   "execution_count": null,
   "id": "3148f1c2-33af-4573-98df-3fa3d747c57e",
   "metadata": {},
   "outputs": [],
   "source": []
  },
  {
   "cell_type": "code",
   "execution_count": null,
   "id": "3e021447-7459-4bb0-8c21-a6c44e668b05",
   "metadata": {},
   "outputs": [],
   "source": []
  },
  {
   "cell_type": "code",
   "execution_count": null,
   "id": "9974560a-ca0a-4834-aebb-f264bc0ad255",
   "metadata": {},
   "outputs": [],
   "source": []
  },
  {
   "cell_type": "code",
   "execution_count": null,
   "id": "c6845385-94ef-418d-a195-c3ad325068e1",
   "metadata": {},
   "outputs": [],
   "source": [
    "# Dashboard to create a combined visualizaion. "
   ]
  },
  {
   "cell_type": "code",
   "execution_count": 35,
   "id": "870ab24a-d7c9-4511-9345-686cc28120e0",
   "metadata": {},
   "outputs": [],
   "source": [
    "app=dash.Dash(__name__)\n",
    "app.title=\"Revenue Dashboard\""
   ]
  },
  {
   "cell_type": "code",
   "execution_count": 36,
   "id": "1dd4fe92-8de3-4239-a2e2-b002c7da1e3d",
   "metadata": {},
   "outputs": [],
   "source": [
    "\n",
    "app.layout=html.Div([\n",
    "    html.H1(\"Revenue Dash Board\"),\n",
    "    html.Label(\"Choose a Type of Revenue for Visualization\"),\n",
    "    dcc.Dropdown(\n",
    "        id=\"column-dropdown\",\n",
    "        options=[\n",
    "            {\"label\":\"Top5\",\"value\":1},\n",
    "            {\"label\":\"Bottom5\",\"value\":2},\n",
    "            {\"label\":\"Brands\",\"value\":3},\n",
    "            {\"label\":\"State\",\"value\":4}\n",
    "            ],\n",
    "        value=1\n",
    "    ),\n",
    "\n",
    "    dcc.Graph(id=\"eda-graph\"),\n",
    "\n",
    "    html.Label(\"Type in Store number for more information \"),    \n",
    "    dcc.Input(\n",
    "        id=\"Number-Input\",\n",
    "        type=\"number\",\n",
    "        value=1,\n",
    "        step=1,\n",
    "        min=1,\n",
    "        max=600\n",
    "    ),\n",
    "    dcc.Graph(id=\"Store-number\"),\n",
    "    html.Div(id=\"store-info\",style={\n",
    "    \"fontSize\": \"20px\",     # bigger font size\n",
    "    \"textAlign\": \"center\",  # center horizontally\n",
    "    \"whiteSpace\": \"pre-wrap\"  # preserves line breaks nicely\n",
    "})\n",
    "])"
   ]
  },
  {
   "cell_type": "code",
   "execution_count": 37,
   "id": "b05ec3af-e6d1-4b6c-9aaa-15e5f8ba9f0c",
   "metadata": {},
   "outputs": [
    {
     "data": {
      "text/html": [
       "\n",
       "        <iframe\n",
       "            width=\"100%\"\n",
       "            height=\"650\"\n",
       "            src=\"http://127.0.0.1:8052/\"\n",
       "            frameborder=\"0\"\n",
       "            allowfullscreen\n",
       "            \n",
       "        ></iframe>\n",
       "        "
      ],
      "text/plain": [
       "<IPython.lib.display.IFrame at 0x15c4482faa0>"
      ]
     },
     "metadata": {},
     "output_type": "display_data"
    }
   ],
   "source": [
    "@app.callback(\n",
    "    Output(\"eda-graph\",\"figure\"),\n",
    "    Output(\"Store-number\",\"figure\"),\n",
    "    Output(\"store-info\", \"children\"),\n",
    "    Input(\"column-dropdown\",\"value\"),\n",
    "    Input(\"Number-Input\",\"value\")      \n",
    ")\n",
    "def update_figure(Revenue_Type,number):\n",
    "    chop=rev.iloc[number]\t\n",
    "    revenue={\"Revenue\":[chop[\"Total_Revenue_current\"],chop[\"Total_Revenue_month\"],chop[\"Total_Revenue_3mo\"],\n",
    "            chop[\"Total_Revenue_6mo\"],chop[\"Total_Revenue_12mo\"]],\"Time\":[\"Current \",\"1mo\",\"3mo\",\"6mo\",\"12mo\"]}\n",
    "    fig1=px.line(revenue,x=\"Time\",y=\"Revenue\")\n",
    "    \n",
    "    if Revenue_Type==1:\n",
    "        fig2=px.bar(top12,x=\"Store_ID\",y=\"Total_Revenue_12mo\")\n",
    "    elif Revenue_Type==2:\n",
    "        fig2=px.bar(bottom12,x=\"Store_ID\",y=\"Total_Revenue_12mo\")\n",
    "    elif Revenue_Type==3:\n",
    "        topp=rev[[\"Brand\",\"Total_Revenue_current\"]]\n",
    "        topp=topp.groupby(\"Brand\").sum().reset_index()\n",
    "        fig2=px.pie(topp, names=\"Brand\", values=\"Total_Revenue_current\",hole=0) \n",
    "    elif Revenue_Type==4:\n",
    "        topp=rev[[\"State\",\"Total_Revenue_current\"]]\n",
    "        topp=topp.groupby(\"State\").sum().reset_index()\n",
    "        fig2=px.pie(topp, names=\"State\", values=\"Total_Revenue_current\",hole=0) \n",
    "    else:\n",
    "        fig2=fig1\n",
    "\n",
    "    info_lines = [f\"{key}: {value}\" for key, value in chop.items()]\n",
    "    fig3 = html.Pre(\"\\n\".join(info_lines)) \n",
    "        \n",
    "    return fig2,fig1,fig3\n",
    "\n",
    "app.run_server(port=8052,mode=\"external\")\n"
   ]
  },
  {
   "cell_type": "code",
   "execution_count": null,
   "id": "a92b218a-3c5b-4e31-9b56-077759d8a199",
   "metadata": {},
   "outputs": [],
   "source": []
  }
 ],
 "metadata": {
  "kernelspec": {
   "display_name": "Python 3 (ipykernel)",
   "language": "python",
   "name": "python3"
  },
  "language_info": {
   "codemirror_mode": {
    "name": "ipython",
    "version": 3
   },
   "file_extension": ".py",
   "mimetype": "text/x-python",
   "name": "python",
   "nbconvert_exporter": "python",
   "pygments_lexer": "ipython3",
   "version": "3.12.7"
  }
 },
 "nbformat": 4,
 "nbformat_minor": 5
}
